{
 "cells": [
  {
   "cell_type": "markdown",
   "metadata": {},
   "source": [
    "# Processamento de Linguagem Natural para análise de fake news (BR)\n",
    "FACTCK.BR é um dataset com 9 colunas e 1309 linhas construído e disponibilizado por João Moreno e Graça Bressan. \n",
    "\n",
    "Os dados foram coletados a partir do ClaimReview, um esquema de dados estruturado usado por agências de verificação de fatos para compartilhar seus resultados nos mecanismos de pesquisa, permitindo a coleta de dados em tempo real.\n",
    "\n",
    "Este dataset foi publicado na WebMedia '19, Simpósio Brasileiro de Mídia e Web, 29 de outubro - 1º de novembro, 2019, Rio de Janeiro, Brasil. Artigo completo: https://doi.org/10.1145/3323503.3361698"
   ]
  },
  {
   "cell_type": "markdown",
   "metadata": {},
   "source": [
    "### Dicionário dos dados\n",
    "- URL\t- Check article web address\n",
    "- Author - Initiative id.\n",
    "- datePublished - Check publication date\n",
    "- claimReviewed - Claim analyzed (content of the alleged fake news)\n",
    "- reviewBody - Check text\n",
    "- Title - Title of the article\n",
    "- ratingValue\t- Numerical classification (1 for false and X for True | to find mas value of X, check best rating feature)\n",
    "- bestRating- Lenght of the scale\n",
    "- alternativeName\t- Text label"
   ]
  },
  {
   "cell_type": "markdown",
   "metadata": {},
   "source": [
    "#### Basic Data Cleaning"
   ]
  },
  {
   "cell_type": "code",
   "execution_count": 1,
   "metadata": {},
   "outputs": [],
   "source": [
    "# importando libs necessarias\n",
    "import pandas as pd\n",
    "import numpy as np\n",
    "import seaborn as sns\n",
    "import matplotlib.pyplot as plt"
   ]
  },
  {
   "cell_type": "code",
   "execution_count": 2,
   "metadata": {},
   "outputs": [
    {
     "data": {
      "text/html": [
       "<div>\n",
       "<style scoped>\n",
       "    .dataframe tbody tr th:only-of-type {\n",
       "        vertical-align: middle;\n",
       "    }\n",
       "\n",
       "    .dataframe tbody tr th {\n",
       "        vertical-align: top;\n",
       "    }\n",
       "\n",
       "    .dataframe thead th {\n",
       "        text-align: right;\n",
       "    }\n",
       "</style>\n",
       "<table border=\"1\" class=\"dataframe\">\n",
       "  <thead>\n",
       "    <tr style=\"text-align: right;\">\n",
       "      <th></th>\n",
       "      <th>URL</th>\n",
       "      <th>Author</th>\n",
       "      <th>datePublished</th>\n",
       "      <th>claimReviewed</th>\n",
       "      <th>reviewBody</th>\n",
       "      <th>title</th>\n",
       "      <th>ratingValue</th>\n",
       "      <th>bestRating</th>\n",
       "      <th>alternativeName</th>\n",
       "    </tr>\n",
       "  </thead>\n",
       "  <tbody>\n",
       "    <tr>\n",
       "      <th>0</th>\n",
       "      <td>https://aosfatos.org/noticias/governo-bolsonar...</td>\n",
       "      <td>https:www.aosfatos.org</td>\n",
       "      <td>2019-07-22</td>\n",
       "      <td>Espaço dedicado para os eleitores do Bolsonaro...</td>\n",
       "      <td>Publicações que circulam nas redes sociais vej...</td>\n",
       "      <td>Governo Bolsonaro não suspendeu distribuição d...</td>\n",
       "      <td>1.0</td>\n",
       "      <td>5</td>\n",
       "      <td>falso</td>\n",
       "    </tr>\n",
       "    <tr>\n",
       "      <th>1</th>\n",
       "      <td>https://aosfatos.org/noticias/nao-e-miriam-lei...</td>\n",
       "      <td>https:www.aosfatos.org</td>\n",
       "      <td>2019-07-22</td>\n",
       "      <td>Vos apresento a funcionária protegida pela Glo...</td>\n",
       "      <td>Uma foto de um treinamento de defesa contra as...</td>\n",
       "      <td>Não é Miriam Leitão quem segura fuzil ao lado ...</td>\n",
       "      <td>1.0</td>\n",
       "      <td>5</td>\n",
       "      <td>falso</td>\n",
       "    </tr>\n",
       "    <tr>\n",
       "      <th>2</th>\n",
       "      <td>https://aosfatos.org/noticias/nao-e-verdade-qu...</td>\n",
       "      <td>https:www.aosfatos.org</td>\n",
       "      <td>2019-07-22</td>\n",
       "      <td>Você sabia que Benedita da Silva já foi embaix...</td>\n",
       "      <td>falsa a informação de que a deputada federal ...</td>\n",
       "      <td>Não é verdade que Benedita da Silva foi embaix...</td>\n",
       "      <td>1.0</td>\n",
       "      <td>5</td>\n",
       "      <td>falso</td>\n",
       "    </tr>\n",
       "    <tr>\n",
       "      <th>3</th>\n",
       "      <td>https://aosfatos.org/noticias/nao-e-de-mulher-...</td>\n",
       "      <td>https:www.aosfatos.org</td>\n",
       "      <td>2019-07-18</td>\n",
       "      <td>QUEM  A MULHER QUE EMPURROU O PADRE MARCELO ROSSI</td>\n",
       "      <td>Modificada digitalmente para incluir o filtro ...</td>\n",
       "      <td>Não é de mulher que empurrou padre Marcelo Ros...</td>\n",
       "      <td>1.0</td>\n",
       "      <td>5</td>\n",
       "      <td>falso</td>\n",
       "    </tr>\n",
       "    <tr>\n",
       "      <th>4</th>\n",
       "      <td>https://aosfatos.org/noticias/e-falso-que-refo...</td>\n",
       "      <td>https:www.aosfatos.org</td>\n",
       "      <td>2019-07-17</td>\n",
       "      <td>As crueldades da Reforma da PrevidênciaPessoas...</td>\n",
       "      <td>Uma publicação que circula nas redes sociais a...</td>\n",
       "      <td>É falso que reforma tira de pessoas com defici...</td>\n",
       "      <td>1.0</td>\n",
       "      <td>5</td>\n",
       "      <td>falso</td>\n",
       "    </tr>\n",
       "    <tr>\n",
       "      <th>5</th>\n",
       "      <td>https://aosfatos.org/noticias/reforma-da-previ...</td>\n",
       "      <td>https:www.aosfatos.org</td>\n",
       "      <td>2019-07-17</td>\n",
       "      <td>Aprovada a redução do PIS de R$ 998,00 para R$...</td>\n",
       "      <td>Não é verdade que o texto da reforma da Previd...</td>\n",
       "      <td>Reforma da Previdência não diminuiu abono sala...</td>\n",
       "      <td>1.0</td>\n",
       "      <td>5</td>\n",
       "      <td>falso</td>\n",
       "    </tr>\n",
       "    <tr>\n",
       "      <th>6</th>\n",
       "      <td>https://aosfatos.org/noticias/e-falso-que-bols...</td>\n",
       "      <td>https:www.aosfatos.org</td>\n",
       "      <td>2019-07-16</td>\n",
       "      <td>Câncer no seio não precisa mais fazer cirurgia...</td>\n",
       "      <td>Não é verdade que o governo Bolsonaro vai auto...</td>\n",
       "      <td>É falso que Bolsonaro importará tecnologia que...</td>\n",
       "      <td>1.0</td>\n",
       "      <td>5</td>\n",
       "      <td>falso</td>\n",
       "    </tr>\n",
       "    <tr>\n",
       "      <th>7</th>\n",
       "      <td>https://aosfatos.org/noticias/zelia-cardoso-na...</td>\n",
       "      <td>https:www.aosfatos.org</td>\n",
       "      <td>2019-07-16</td>\n",
       "      <td>Vc sabia que a Zélia Cardoso, antes de ser min...</td>\n",
       "      <td>Não é verdade que a ex-ministra da Economia, F...</td>\n",
       "      <td>Zélia Cardoso não foi embaixadora do Brasil no...</td>\n",
       "      <td>1.0</td>\n",
       "      <td>5</td>\n",
       "      <td>falso</td>\n",
       "    </tr>\n",
       "    <tr>\n",
       "      <th>8</th>\n",
       "      <td>https://aosfatos.org/noticias/nao-e-verdade-qu...</td>\n",
       "      <td>https:www.aosfatos.org</td>\n",
       "      <td>2019-07-16</td>\n",
       "      <td>Achado petróleo no mato grosso para 80 anos de...</td>\n",
       "      <td>Circula como se fosse recente um vídeo gravado...</td>\n",
       "      <td>Não é verdade que governo Bolsonaro descobriu ...</td>\n",
       "      <td>1.0</td>\n",
       "      <td>5</td>\n",
       "      <td>falso</td>\n",
       "    </tr>\n",
       "    <tr>\n",
       "      <th>9</th>\n",
       "      <td>https://aosfatos.org/noticias/e-falso-que-pt-n...</td>\n",
       "      <td>https:www.aosfatos.org</td>\n",
       "      <td>2019-07-15</td>\n",
       "      <td>Só para lembrar, o PT nomeou embaixador nos EU...</td>\n",
       "      <td>Não é verdade que o ex-senador Aloysio Nunes f...</td>\n",
       "      <td>É falso que PT nomeou Aloysio Nunes embaixador...</td>\n",
       "      <td>1.0</td>\n",
       "      <td>5</td>\n",
       "      <td>falso</td>\n",
       "    </tr>\n",
       "  </tbody>\n",
       "</table>\n",
       "</div>"
      ],
      "text/plain": [
       "                                                 URL                  Author  \\\n",
       "0  https://aosfatos.org/noticias/governo-bolsonar...  https:www.aosfatos.org   \n",
       "1  https://aosfatos.org/noticias/nao-e-miriam-lei...  https:www.aosfatos.org   \n",
       "2  https://aosfatos.org/noticias/nao-e-verdade-qu...  https:www.aosfatos.org   \n",
       "3  https://aosfatos.org/noticias/nao-e-de-mulher-...  https:www.aosfatos.org   \n",
       "4  https://aosfatos.org/noticias/e-falso-que-refo...  https:www.aosfatos.org   \n",
       "5  https://aosfatos.org/noticias/reforma-da-previ...  https:www.aosfatos.org   \n",
       "6  https://aosfatos.org/noticias/e-falso-que-bols...  https:www.aosfatos.org   \n",
       "7  https://aosfatos.org/noticias/zelia-cardoso-na...  https:www.aosfatos.org   \n",
       "8  https://aosfatos.org/noticias/nao-e-verdade-qu...  https:www.aosfatos.org   \n",
       "9  https://aosfatos.org/noticias/e-falso-que-pt-n...  https:www.aosfatos.org   \n",
       "\n",
       "  datePublished                                      claimReviewed  \\\n",
       "0    2019-07-22  Espaço dedicado para os eleitores do Bolsonaro...   \n",
       "1    2019-07-22  Vos apresento a funcionária protegida pela Glo...   \n",
       "2    2019-07-22  Você sabia que Benedita da Silva já foi embaix...   \n",
       "3    2019-07-18  QUEM  A MULHER QUE EMPURROU O PADRE MARCELO ROSSI   \n",
       "4    2019-07-17  As crueldades da Reforma da PrevidênciaPessoas...   \n",
       "5    2019-07-17  Aprovada a redução do PIS de R$ 998,00 para R$...   \n",
       "6    2019-07-16  Câncer no seio não precisa mais fazer cirurgia...   \n",
       "7    2019-07-16  Vc sabia que a Zélia Cardoso, antes de ser min...   \n",
       "8    2019-07-16  Achado petróleo no mato grosso para 80 anos de...   \n",
       "9    2019-07-15  Só para lembrar, o PT nomeou embaixador nos EU...   \n",
       "\n",
       "                                          reviewBody  \\\n",
       "0  Publicações que circulam nas redes sociais vej...   \n",
       "1  Uma foto de um treinamento de defesa contra as...   \n",
       "2   falsa a informação de que a deputada federal ...   \n",
       "3  Modificada digitalmente para incluir o filtro ...   \n",
       "4  Uma publicação que circula nas redes sociais a...   \n",
       "5  Não é verdade que o texto da reforma da Previd...   \n",
       "6  Não é verdade que o governo Bolsonaro vai auto...   \n",
       "7  Não é verdade que a ex-ministra da Economia, F...   \n",
       "8  Circula como se fosse recente um vídeo gravado...   \n",
       "9  Não é verdade que o ex-senador Aloysio Nunes f...   \n",
       "\n",
       "                                               title  ratingValue  bestRating  \\\n",
       "0  Governo Bolsonaro não suspendeu distribuição d...          1.0           5   \n",
       "1  Não é Miriam Leitão quem segura fuzil ao lado ...          1.0           5   \n",
       "2  Não é verdade que Benedita da Silva foi embaix...          1.0           5   \n",
       "3  Não é de mulher que empurrou padre Marcelo Ros...          1.0           5   \n",
       "4  É falso que reforma tira de pessoas com defici...          1.0           5   \n",
       "5  Reforma da Previdência não diminuiu abono sala...          1.0           5   \n",
       "6  É falso que Bolsonaro importará tecnologia que...          1.0           5   \n",
       "7  Zélia Cardoso não foi embaixadora do Brasil no...          1.0           5   \n",
       "8  Não é verdade que governo Bolsonaro descobriu ...          1.0           5   \n",
       "9  É falso que PT nomeou Aloysio Nunes embaixador...          1.0           5   \n",
       "\n",
       "  alternativeName  \n",
       "0           falso  \n",
       "1           falso  \n",
       "2           falso  \n",
       "3           falso  \n",
       "4           falso  \n",
       "5           falso  \n",
       "6           falso  \n",
       "7           falso  \n",
       "8           falso  \n",
       "9           falso  "
      ]
     },
     "execution_count": 2,
     "metadata": {},
     "output_type": "execute_result"
    }
   ],
   "source": [
    "# lendo o arquivo csv dentro de um dataframe\n",
    "data_news = pd.read_csv('FACTCKBR.csv', sep='\\t', header=0)\n",
    "data_news.head(10)"
   ]
  },
  {
   "cell_type": "code",
   "execution_count": 3,
   "metadata": {},
   "outputs": [
    {
     "data": {
      "text/plain": [
       "(1313, 9)"
      ]
     },
     "execution_count": 3,
     "metadata": {},
     "output_type": "execute_result"
    }
   ],
   "source": [
    "# o data set possui 1313 linhas e 9 colunas\n",
    "data_news.shape"
   ]
  },
  {
   "cell_type": "code",
   "execution_count": 4,
   "metadata": {},
   "outputs": [
    {
     "name": "stdout",
     "output_type": "stream",
     "text": [
      "categorical_attributes: ['URL', 'Author', 'datePublished', 'claimReviewed', 'reviewBody', 'title', 'alternativeName']\n",
      "numerical_attributes: ['ratingValue', 'bestRating']\n"
     ]
    }
   ],
   "source": [
    "# checando quais features são categóricas e quais são numéricas\n",
    "categorical_attributes = list(data_news.select_dtypes(include=['object']).columns)\n",
    "numerical_attributes = list(data_news.select_dtypes(include=['float64', 'int64']).columns)\n",
    "print('categorical_attributes:', categorical_attributes)\n",
    "print('numerical_attributes:', numerical_attributes)"
   ]
  },
  {
   "cell_type": "code",
   "execution_count": 5,
   "metadata": {},
   "outputs": [
    {
     "data": {
      "text/html": [
       "<div>\n",
       "<style scoped>\n",
       "    .dataframe tbody tr th:only-of-type {\n",
       "        vertical-align: middle;\n",
       "    }\n",
       "\n",
       "    .dataframe tbody tr th {\n",
       "        vertical-align: top;\n",
       "    }\n",
       "\n",
       "    .dataframe thead th {\n",
       "        text-align: right;\n",
       "    }\n",
       "</style>\n",
       "<table border=\"1\" class=\"dataframe\">\n",
       "  <thead>\n",
       "    <tr style=\"text-align: right;\">\n",
       "      <th></th>\n",
       "      <th>URL</th>\n",
       "      <th>Author</th>\n",
       "      <th>datePublished</th>\n",
       "      <th>claimReviewed</th>\n",
       "      <th>reviewBody</th>\n",
       "      <th>title</th>\n",
       "      <th>ratingValue</th>\n",
       "      <th>bestRating</th>\n",
       "    </tr>\n",
       "    <tr>\n",
       "      <th>alternativeName</th>\n",
       "      <th></th>\n",
       "      <th></th>\n",
       "      <th></th>\n",
       "      <th></th>\n",
       "      <th></th>\n",
       "      <th></th>\n",
       "      <th></th>\n",
       "      <th></th>\n",
       "    </tr>\n",
       "  </thead>\n",
       "  <tbody>\n",
       "    <tr>\n",
       "      <th>Ainda é cedo para dizer</th>\n",
       "      <td>6</td>\n",
       "      <td>6</td>\n",
       "      <td>6</td>\n",
       "      <td>6</td>\n",
       "      <td>6</td>\n",
       "      <td>6</td>\n",
       "      <td>6</td>\n",
       "      <td>6</td>\n",
       "    </tr>\n",
       "    <tr>\n",
       "      <th>De olho</th>\n",
       "      <td>3</td>\n",
       "      <td>3</td>\n",
       "      <td>3</td>\n",
       "      <td>3</td>\n",
       "      <td>3</td>\n",
       "      <td>3</td>\n",
       "      <td>3</td>\n",
       "      <td>3</td>\n",
       "    </tr>\n",
       "    <tr>\n",
       "      <th>Discutível</th>\n",
       "      <td>12</td>\n",
       "      <td>12</td>\n",
       "      <td>12</td>\n",
       "      <td>12</td>\n",
       "      <td>12</td>\n",
       "      <td>12</td>\n",
       "      <td>12</td>\n",
       "      <td>12</td>\n",
       "    </tr>\n",
       "    <tr>\n",
       "      <th>Distorcido</th>\n",
       "      <td>25</td>\n",
       "      <td>25</td>\n",
       "      <td>25</td>\n",
       "      <td>25</td>\n",
       "      <td>25</td>\n",
       "      <td>25</td>\n",
       "      <td>25</td>\n",
       "      <td>25</td>\n",
       "    </tr>\n",
       "    <tr>\n",
       "      <th>Exagerado</th>\n",
       "      <td>87</td>\n",
       "      <td>87</td>\n",
       "      <td>87</td>\n",
       "      <td>87</td>\n",
       "      <td>87</td>\n",
       "      <td>87</td>\n",
       "      <td>87</td>\n",
       "      <td>87</td>\n",
       "    </tr>\n",
       "    <tr>\n",
       "      <th>Falso</th>\n",
       "      <td>615</td>\n",
       "      <td>615</td>\n",
       "      <td>615</td>\n",
       "      <td>613</td>\n",
       "      <td>615</td>\n",
       "      <td>615</td>\n",
       "      <td>615</td>\n",
       "      <td>615</td>\n",
       "    </tr>\n",
       "    <tr>\n",
       "      <th>Impossível provar</th>\n",
       "      <td>20</td>\n",
       "      <td>20</td>\n",
       "      <td>20</td>\n",
       "      <td>20</td>\n",
       "      <td>20</td>\n",
       "      <td>20</td>\n",
       "      <td>20</td>\n",
       "      <td>20</td>\n",
       "    </tr>\n",
       "    <tr>\n",
       "      <th>Sem contexto</th>\n",
       "      <td>42</td>\n",
       "      <td>42</td>\n",
       "      <td>42</td>\n",
       "      <td>42</td>\n",
       "      <td>42</td>\n",
       "      <td>42</td>\n",
       "      <td>42</td>\n",
       "      <td>42</td>\n",
       "    </tr>\n",
       "    <tr>\n",
       "      <th>Subestimado</th>\n",
       "      <td>6</td>\n",
       "      <td>6</td>\n",
       "      <td>6</td>\n",
       "      <td>6</td>\n",
       "      <td>6</td>\n",
       "      <td>6</td>\n",
       "      <td>6</td>\n",
       "      <td>6</td>\n",
       "    </tr>\n",
       "    <tr>\n",
       "      <th>Verdadeiro</th>\n",
       "      <td>119</td>\n",
       "      <td>119</td>\n",
       "      <td>119</td>\n",
       "      <td>118</td>\n",
       "      <td>119</td>\n",
       "      <td>119</td>\n",
       "      <td>119</td>\n",
       "      <td>119</td>\n",
       "    </tr>\n",
       "    <tr>\n",
       "      <th>Verdadeiro, mas</th>\n",
       "      <td>4</td>\n",
       "      <td>4</td>\n",
       "      <td>4</td>\n",
       "      <td>4</td>\n",
       "      <td>4</td>\n",
       "      <td>4</td>\n",
       "      <td>4</td>\n",
       "      <td>4</td>\n",
       "    </tr>\n",
       "    <tr>\n",
       "      <th>distorcido</th>\n",
       "      <td>29</td>\n",
       "      <td>29</td>\n",
       "      <td>29</td>\n",
       "      <td>28</td>\n",
       "      <td>28</td>\n",
       "      <td>29</td>\n",
       "      <td>29</td>\n",
       "      <td>29</td>\n",
       "    </tr>\n",
       "    <tr>\n",
       "      <th>exagerado</th>\n",
       "      <td>4</td>\n",
       "      <td>4</td>\n",
       "      <td>4</td>\n",
       "      <td>4</td>\n",
       "      <td>4</td>\n",
       "      <td>4</td>\n",
       "      <td>4</td>\n",
       "      <td>4</td>\n",
       "    </tr>\n",
       "    <tr>\n",
       "      <th>falso</th>\n",
       "      <td>328</td>\n",
       "      <td>328</td>\n",
       "      <td>328</td>\n",
       "      <td>320</td>\n",
       "      <td>318</td>\n",
       "      <td>328</td>\n",
       "      <td>328</td>\n",
       "      <td>328</td>\n",
       "    </tr>\n",
       "    <tr>\n",
       "      <th>impreciso</th>\n",
       "      <td>2</td>\n",
       "      <td>2</td>\n",
       "      <td>2</td>\n",
       "      <td>2</td>\n",
       "      <td>2</td>\n",
       "      <td>2</td>\n",
       "      <td>2</td>\n",
       "      <td>2</td>\n",
       "    </tr>\n",
       "    <tr>\n",
       "      <th>insustentável</th>\n",
       "      <td>5</td>\n",
       "      <td>5</td>\n",
       "      <td>5</td>\n",
       "      <td>5</td>\n",
       "      <td>5</td>\n",
       "      <td>5</td>\n",
       "      <td>5</td>\n",
       "      <td>5</td>\n",
       "    </tr>\n",
       "    <tr>\n",
       "      <th>outros</th>\n",
       "      <td>1</td>\n",
       "      <td>1</td>\n",
       "      <td>1</td>\n",
       "      <td>1</td>\n",
       "      <td>1</td>\n",
       "      <td>1</td>\n",
       "      <td>1</td>\n",
       "      <td>1</td>\n",
       "    </tr>\n",
       "    <tr>\n",
       "      <th>verdadeiro</th>\n",
       "      <td>1</td>\n",
       "      <td>1</td>\n",
       "      <td>1</td>\n",
       "      <td>1</td>\n",
       "      <td>1</td>\n",
       "      <td>1</td>\n",
       "      <td>1</td>\n",
       "      <td>1</td>\n",
       "    </tr>\n",
       "  </tbody>\n",
       "</table>\n",
       "</div>"
      ],
      "text/plain": [
       "                         URL  Author  datePublished  claimReviewed  \\\n",
       "alternativeName                                                      \n",
       "Ainda é cedo para dizer    6       6              6              6   \n",
       "De olho                    3       3              3              3   \n",
       "Discutível                12      12             12             12   \n",
       "Distorcido                25      25             25             25   \n",
       "Exagerado                 87      87             87             87   \n",
       "Falso                    615     615            615            613   \n",
       "Impossível provar         20      20             20             20   \n",
       "Sem contexto              42      42             42             42   \n",
       "Subestimado                6       6              6              6   \n",
       "Verdadeiro               119     119            119            118   \n",
       "Verdadeiro, mas            4       4              4              4   \n",
       "distorcido                29      29             29             28   \n",
       "exagerado                  4       4              4              4   \n",
       "falso                    328     328            328            320   \n",
       "impreciso                  2       2              2              2   \n",
       "insustentável              5       5              5              5   \n",
       "outros                     1       1              1              1   \n",
       "verdadeiro                 1       1              1              1   \n",
       "\n",
       "                         reviewBody  title  ratingValue  bestRating  \n",
       "alternativeName                                                      \n",
       "Ainda é cedo para dizer           6      6            6           6  \n",
       "De olho                           3      3            3           3  \n",
       "Discutível                       12     12           12          12  \n",
       "Distorcido                       25     25           25          25  \n",
       "Exagerado                        87     87           87          87  \n",
       "Falso                           615    615          615         615  \n",
       "Impossível provar                20     20           20          20  \n",
       "Sem contexto                     42     42           42          42  \n",
       "Subestimado                       6      6            6           6  \n",
       "Verdadeiro                      119    119          119         119  \n",
       "Verdadeiro, mas                   4      4            4           4  \n",
       "distorcido                       28     29           29          29  \n",
       "exagerado                         4      4            4           4  \n",
       "falso                           318    328          328         328  \n",
       "impreciso                         2      2            2           2  \n",
       "insustentável                     5      5            5           5  \n",
       "outros                            1      1            1           1  \n",
       "verdadeiro                        1      1            1           1  "
      ]
     },
     "execution_count": 5,
     "metadata": {},
     "output_type": "execute_result"
    }
   ],
   "source": [
    "# checando total de categorias e quantas news estão em cada uma delas\n",
    "data_news.groupby('alternativeName').count()"
   ]
  },
  {
   "cell_type": "code",
   "execution_count": 6,
   "metadata": {},
   "outputs": [],
   "source": [
    "# creating new column True/Fake with a bonomial 0 - 1 label\n",
    "# Fake = 0 (rating value from 1-3) | True = 1 (rating value 4+)\n",
    "data_news['True/Fake'] = [1 if x == 'Verdadeiro' or x == 'verdadeiro'\n",
    "                          else 0 for x in data_news['alternativeName']]"
   ]
  },
  {
   "cell_type": "code",
   "execution_count": 7,
   "metadata": {},
   "outputs": [
    {
     "data": {
      "text/html": [
       "<div>\n",
       "<style scoped>\n",
       "    .dataframe tbody tr th:only-of-type {\n",
       "        vertical-align: middle;\n",
       "    }\n",
       "\n",
       "    .dataframe tbody tr th {\n",
       "        vertical-align: top;\n",
       "    }\n",
       "\n",
       "    .dataframe thead th {\n",
       "        text-align: right;\n",
       "    }\n",
       "</style>\n",
       "<table border=\"1\" class=\"dataframe\">\n",
       "  <thead>\n",
       "    <tr style=\"text-align: right;\">\n",
       "      <th></th>\n",
       "      <th>URL</th>\n",
       "      <th>Author</th>\n",
       "      <th>datePublished</th>\n",
       "      <th>claimReviewed</th>\n",
       "      <th>reviewBody</th>\n",
       "      <th>title</th>\n",
       "      <th>ratingValue</th>\n",
       "      <th>bestRating</th>\n",
       "      <th>alternativeName</th>\n",
       "      <th>True/Fake</th>\n",
       "    </tr>\n",
       "  </thead>\n",
       "  <tbody>\n",
       "    <tr>\n",
       "      <th>0</th>\n",
       "      <td>https://aosfatos.org/noticias/governo-bolsonar...</td>\n",
       "      <td>https:www.aosfatos.org</td>\n",
       "      <td>2019-07-22</td>\n",
       "      <td>Espaço dedicado para os eleitores do Bolsonaro...</td>\n",
       "      <td>Publicações que circulam nas redes sociais vej...</td>\n",
       "      <td>Governo Bolsonaro não suspendeu distribuição d...</td>\n",
       "      <td>1.0</td>\n",
       "      <td>5</td>\n",
       "      <td>falso</td>\n",
       "      <td>0</td>\n",
       "    </tr>\n",
       "    <tr>\n",
       "      <th>1</th>\n",
       "      <td>https://aosfatos.org/noticias/nao-e-miriam-lei...</td>\n",
       "      <td>https:www.aosfatos.org</td>\n",
       "      <td>2019-07-22</td>\n",
       "      <td>Vos apresento a funcionária protegida pela Glo...</td>\n",
       "      <td>Uma foto de um treinamento de defesa contra as...</td>\n",
       "      <td>Não é Miriam Leitão quem segura fuzil ao lado ...</td>\n",
       "      <td>1.0</td>\n",
       "      <td>5</td>\n",
       "      <td>falso</td>\n",
       "      <td>0</td>\n",
       "    </tr>\n",
       "    <tr>\n",
       "      <th>2</th>\n",
       "      <td>https://aosfatos.org/noticias/nao-e-verdade-qu...</td>\n",
       "      <td>https:www.aosfatos.org</td>\n",
       "      <td>2019-07-22</td>\n",
       "      <td>Você sabia que Benedita da Silva já foi embaix...</td>\n",
       "      <td>falsa a informação de que a deputada federal ...</td>\n",
       "      <td>Não é verdade que Benedita da Silva foi embaix...</td>\n",
       "      <td>1.0</td>\n",
       "      <td>5</td>\n",
       "      <td>falso</td>\n",
       "      <td>0</td>\n",
       "    </tr>\n",
       "    <tr>\n",
       "      <th>3</th>\n",
       "      <td>https://aosfatos.org/noticias/nao-e-de-mulher-...</td>\n",
       "      <td>https:www.aosfatos.org</td>\n",
       "      <td>2019-07-18</td>\n",
       "      <td>QUEM  A MULHER QUE EMPURROU O PADRE MARCELO ROSSI</td>\n",
       "      <td>Modificada digitalmente para incluir o filtro ...</td>\n",
       "      <td>Não é de mulher que empurrou padre Marcelo Ros...</td>\n",
       "      <td>1.0</td>\n",
       "      <td>5</td>\n",
       "      <td>falso</td>\n",
       "      <td>0</td>\n",
       "    </tr>\n",
       "    <tr>\n",
       "      <th>4</th>\n",
       "      <td>https://aosfatos.org/noticias/e-falso-que-refo...</td>\n",
       "      <td>https:www.aosfatos.org</td>\n",
       "      <td>2019-07-17</td>\n",
       "      <td>As crueldades da Reforma da PrevidênciaPessoas...</td>\n",
       "      <td>Uma publicação que circula nas redes sociais a...</td>\n",
       "      <td>É falso que reforma tira de pessoas com defici...</td>\n",
       "      <td>1.0</td>\n",
       "      <td>5</td>\n",
       "      <td>falso</td>\n",
       "      <td>0</td>\n",
       "    </tr>\n",
       "  </tbody>\n",
       "</table>\n",
       "</div>"
      ],
      "text/plain": [
       "                                                 URL                  Author  \\\n",
       "0  https://aosfatos.org/noticias/governo-bolsonar...  https:www.aosfatos.org   \n",
       "1  https://aosfatos.org/noticias/nao-e-miriam-lei...  https:www.aosfatos.org   \n",
       "2  https://aosfatos.org/noticias/nao-e-verdade-qu...  https:www.aosfatos.org   \n",
       "3  https://aosfatos.org/noticias/nao-e-de-mulher-...  https:www.aosfatos.org   \n",
       "4  https://aosfatos.org/noticias/e-falso-que-refo...  https:www.aosfatos.org   \n",
       "\n",
       "  datePublished                                      claimReviewed  \\\n",
       "0    2019-07-22  Espaço dedicado para os eleitores do Bolsonaro...   \n",
       "1    2019-07-22  Vos apresento a funcionária protegida pela Glo...   \n",
       "2    2019-07-22  Você sabia que Benedita da Silva já foi embaix...   \n",
       "3    2019-07-18  QUEM  A MULHER QUE EMPURROU O PADRE MARCELO ROSSI   \n",
       "4    2019-07-17  As crueldades da Reforma da PrevidênciaPessoas...   \n",
       "\n",
       "                                          reviewBody  \\\n",
       "0  Publicações que circulam nas redes sociais vej...   \n",
       "1  Uma foto de um treinamento de defesa contra as...   \n",
       "2   falsa a informação de que a deputada federal ...   \n",
       "3  Modificada digitalmente para incluir o filtro ...   \n",
       "4  Uma publicação que circula nas redes sociais a...   \n",
       "\n",
       "                                               title  ratingValue  bestRating  \\\n",
       "0  Governo Bolsonaro não suspendeu distribuição d...          1.0           5   \n",
       "1  Não é Miriam Leitão quem segura fuzil ao lado ...          1.0           5   \n",
       "2  Não é verdade que Benedita da Silva foi embaix...          1.0           5   \n",
       "3  Não é de mulher que empurrou padre Marcelo Ros...          1.0           5   \n",
       "4  É falso que reforma tira de pessoas com defici...          1.0           5   \n",
       "\n",
       "  alternativeName  True/Fake  \n",
       "0           falso          0  \n",
       "1           falso          0  \n",
       "2           falso          0  \n",
       "3           falso          0  \n",
       "4           falso          0  "
      ]
     },
     "execution_count": 7,
     "metadata": {},
     "output_type": "execute_result"
    }
   ],
   "source": [
    "data_news.head()"
   ]
  },
  {
   "cell_type": "code",
   "execution_count": 8,
   "metadata": {},
   "outputs": [
    {
     "data": {
      "text/plain": [
       "0    1193\n",
       "1     120\n",
       "Name: True/Fake, dtype: int64"
      ]
     },
     "execution_count": 8,
     "metadata": {},
     "output_type": "execute_result"
    }
   ],
   "source": [
    "# there are more fake news than true news in this dataset\n",
    "data_news['True/Fake'].value_counts()"
   ]
  },
  {
   "cell_type": "code",
   "execution_count": 9,
   "metadata": {},
   "outputs": [],
   "source": [
    "# to level up, I decided to drop the rows that had labels such as no context, distorced, etc"
   ]
  },
  {
   "cell_type": "code",
   "execution_count": 9,
   "metadata": {},
   "outputs": [],
   "source": [
    "index_exagero = data_news[data_news['alternativeName'] == 'Impossível provar'].index"
   ]
  },
  {
   "cell_type": "code",
   "execution_count": 10,
   "metadata": {},
   "outputs": [],
   "source": [
    "data_news.drop(index_exagero, inplace=True)"
   ]
  },
  {
   "cell_type": "code",
   "execution_count": 11,
   "metadata": {},
   "outputs": [],
   "source": [
    "index_provas = data_news[data_news['alternativeName'] == 'Discutível'].index"
   ]
  },
  {
   "cell_type": "code",
   "execution_count": 12,
   "metadata": {},
   "outputs": [],
   "source": [
    "data_news.drop(index_provas, inplace=True)"
   ]
  },
  {
   "cell_type": "code",
   "execution_count": 13,
   "metadata": {},
   "outputs": [],
   "source": [
    "index_distorcido = data_news[data_news['alternativeName'] == 'Exagerado'].index"
   ]
  },
  {
   "cell_type": "code",
   "execution_count": 14,
   "metadata": {},
   "outputs": [],
   "source": [
    "data_news.drop(index_distorcido, inplace=True)"
   ]
  },
  {
   "cell_type": "code",
   "execution_count": 15,
   "metadata": {},
   "outputs": [
    {
     "data": {
      "text/plain": [
       "0    1074\n",
       "1     120\n",
       "Name: True/Fake, dtype: int64"
      ]
     },
     "execution_count": 15,
     "metadata": {},
     "output_type": "execute_result"
    }
   ],
   "source": [
    "# new set of fake and true news\n",
    "data_news['True/Fake'].value_counts()"
   ]
  },
  {
   "cell_type": "code",
   "execution_count": 16,
   "metadata": {},
   "outputs": [
    {
     "data": {
      "text/plain": [
       "claimReviewed      13\n",
       "reviewBody         12\n",
       "alternativeName     4\n",
       "ratingValue         4\n",
       "True/Fake           0\n",
       "dtype: int64"
      ]
     },
     "execution_count": 16,
     "metadata": {},
     "output_type": "execute_result"
    }
   ],
   "source": [
    "# How much of your data is missing?\n",
    "data_news.isnull().sum().sort_values(ascending=False).head()"
   ]
  },
  {
   "cell_type": "code",
   "execution_count": 17,
   "metadata": {},
   "outputs": [],
   "source": [
    "# dropping missing values \n",
    "data_news.dropna(inplace=True)"
   ]
  },
  {
   "cell_type": "code",
   "execution_count": 18,
   "metadata": {},
   "outputs": [
    {
     "data": {
      "text/plain": [
       "True/Fake          0\n",
       "alternativeName    0\n",
       "bestRating         0\n",
       "ratingValue        0\n",
       "title              0\n",
       "dtype: int64"
      ]
     },
     "execution_count": 18,
     "metadata": {},
     "output_type": "execute_result"
    }
   ],
   "source": [
    "# checking if it worked\n",
    "data_news.isnull().sum().sort_values(ascending=False).head()"
   ]
  },
  {
   "cell_type": "code",
   "execution_count": 19,
   "metadata": {},
   "outputs": [
    {
     "data": {
      "text/plain": [
       "0    1057\n",
       "1     119\n",
       "Name: True/Fake, dtype: int64"
      ]
     },
     "execution_count": 19,
     "metadata": {},
     "output_type": "execute_result"
    }
   ],
   "source": [
    "# new set of fake and true news, seems balanced\n",
    "data_news['True/Fake'].value_counts()"
   ]
  },
  {
   "cell_type": "markdown",
   "metadata": {},
   "source": [
    "### Text processing"
   ]
  },
  {
   "cell_type": "code",
   "execution_count": 20,
   "metadata": {},
   "outputs": [
    {
     "data": {
      "text/plain": [
       "URL                 object\n",
       "Author              object\n",
       "datePublished       object\n",
       "claimReviewed       object\n",
       "reviewBody          object\n",
       "title               object\n",
       "ratingValue        float64\n",
       "bestRating           int64\n",
       "alternativeName     object\n",
       "True/Fake            int64\n",
       "dtype: object"
      ]
     },
     "execution_count": 20,
     "metadata": {},
     "output_type": "execute_result"
    }
   ],
   "source": [
    "data_news.dtypes"
   ]
  },
  {
   "cell_type": "code",
   "execution_count": 21,
   "metadata": {},
   "outputs": [
    {
     "name": "stderr",
     "output_type": "stream",
     "text": [
      "[nltk_data] Downloading package stopwords to\n",
      "[nltk_data]     C:\\Users\\leticiag\\AppData\\Roaming\\nltk_data...\n",
      "[nltk_data]   Package stopwords is already up-to-date!\n"
     ]
    },
    {
     "data": {
      "text/plain": [
       "True"
      ]
     },
     "execution_count": 21,
     "metadata": {},
     "output_type": "execute_result"
    }
   ],
   "source": [
    "import nltk\n",
    "nltk.download('stopwords')"
   ]
  },
  {
   "cell_type": "code",
   "execution_count": 22,
   "metadata": {},
   "outputs": [],
   "source": [
    "# importing libs\n",
    "from nltk.corpus import stopwords\n",
    "import string"
   ]
  },
  {
   "cell_type": "code",
   "execution_count": 23,
   "metadata": {},
   "outputs": [],
   "source": [
    "# build function to process text\n",
    "def process_text(s):\n",
    "\n",
    "    # Check each string for punctuation\n",
    "    no_punc = [char for char in s if char not in string.punctuation]\n",
    "\n",
    "    # Join the characters again \n",
    "    no_punc = ''.join(no_punc)\n",
    "    \n",
    "    # Convert string to lowercase and remove stopwords\n",
    "    clean_string = [word for word in no_punc.split() if word.lower() not in stopwords.words('portuguese')]\n",
    "    return clean_string"
   ]
  },
  {
   "cell_type": "code",
   "execution_count": 24,
   "metadata": {},
   "outputs": [],
   "source": [
    "# Tokenize article so words can be represented by numbers\n",
    "# run the process_text on the column that contains the title of the fake articles --> claimReviewed\n",
    "data_news['Clean Text'] = data_news['claimReviewed'].apply(process_text)"
   ]
  },
  {
   "cell_type": "code",
   "execution_count": 25,
   "metadata": {},
   "outputs": [
    {
     "data": {
      "text/html": [
       "<div>\n",
       "<style scoped>\n",
       "    .dataframe tbody tr th:only-of-type {\n",
       "        vertical-align: middle;\n",
       "    }\n",
       "\n",
       "    .dataframe tbody tr th {\n",
       "        vertical-align: top;\n",
       "    }\n",
       "\n",
       "    .dataframe thead th {\n",
       "        text-align: right;\n",
       "    }\n",
       "</style>\n",
       "<table border=\"1\" class=\"dataframe\">\n",
       "  <thead>\n",
       "    <tr style=\"text-align: right;\">\n",
       "      <th></th>\n",
       "      <th>URL</th>\n",
       "      <th>Author</th>\n",
       "      <th>datePublished</th>\n",
       "      <th>claimReviewed</th>\n",
       "      <th>reviewBody</th>\n",
       "      <th>title</th>\n",
       "      <th>ratingValue</th>\n",
       "      <th>bestRating</th>\n",
       "      <th>alternativeName</th>\n",
       "      <th>True/Fake</th>\n",
       "      <th>Clean Text</th>\n",
       "    </tr>\n",
       "  </thead>\n",
       "  <tbody>\n",
       "    <tr>\n",
       "      <th>222</th>\n",
       "      <td>https://aosfatos.org/noticias/termo-black-frid...</td>\n",
       "      <td>https:www.aosfatos.org</td>\n",
       "      <td>2018-11-26</td>\n",
       "      <td>Termo black friday tem origem na escravidão</td>\n",
       "      <td>Na verdade, o termo surgiu em 24 de setembro d...</td>\n",
       "      <td>Termo ‘black friday’ não tem nada a ver com es...</td>\n",
       "      <td>1.0</td>\n",
       "      <td>5</td>\n",
       "      <td>falso</td>\n",
       "      <td>0</td>\n",
       "      <td>[Termo, black, friday, origem, escravidão]</td>\n",
       "    </tr>\n",
       "    <tr>\n",
       "      <th>856</th>\n",
       "      <td>https://piaui.folha.uol.com.br/lupa/2019/06/07...</td>\n",
       "      <td>https:piaui.folha.uol.com.brlupa</td>\n",
       "      <td>2019-06-07 16:31:38</td>\n",
       "      <td>Esta é uma rua na Venezuela. Isso é dinheiro n...</td>\n",
       "      <td>Empty</td>\n",
       "      <td>#Verificamos:  falso que dinheiro tenha sido d...</td>\n",
       "      <td>4.0</td>\n",
       "      <td>6</td>\n",
       "      <td>Falso</td>\n",
       "      <td>0</td>\n",
       "      <td>[rua, Venezuela, dinheiro, sarjeta, inútil, Be...</td>\n",
       "    </tr>\n",
       "    <tr>\n",
       "      <th>791</th>\n",
       "      <td>https://piaui.folha.uol.com.br/lupa/2019/07/16...</td>\n",
       "      <td>https:piaui.folha.uol.com.brlupa</td>\n",
       "      <td>2019-07-16 20:05:23</td>\n",
       "      <td>Isso aconteceu no #Brasil durante uma missa em...</td>\n",
       "      <td>Empty</td>\n",
       "      <td>#Verificamos:  falso que padre Marcelo foi ata...</td>\n",
       "      <td>4.0</td>\n",
       "      <td>6</td>\n",
       "      <td>Falso</td>\n",
       "      <td>0</td>\n",
       "      <td>[aconteceu, Brasil, durante, missa, Cachoeira,...</td>\n",
       "    </tr>\n",
       "    <tr>\n",
       "      <th>745</th>\n",
       "      <td>https://apublica.org/2016/06/truco-verdades-e-...</td>\n",
       "      <td>https:apublica.org</td>\n",
       "      <td>2016-06-03</td>\n",
       "      <td>Não adianta vir aqui dizer que essa vitória é ...</td>\n",
       "      <td>A deputada federal Jandira Feghali PCdoB-RJ af...</td>\n",
       "      <td>Verdades e mentiras sobre o pacotão de reajust...</td>\n",
       "      <td>7.0</td>\n",
       "      <td>8</td>\n",
       "      <td>Sem contexto</td>\n",
       "      <td>0</td>\n",
       "      <td>[adianta, vir, aqui, dizer, vitória, governo, ...</td>\n",
       "    </tr>\n",
       "    <tr>\n",
       "      <th>1216</th>\n",
       "      <td>https://piaui.folha.uol.com.br/lupa/2018/10/07...</td>\n",
       "      <td>https:piaui.folha.uol.com.brlupa</td>\n",
       "      <td>2018-10-07 16:47:24</td>\n",
       "      <td>Eleitora do PT dá tapa na aeromoça por conta d...</td>\n",
       "      <td>Empty</td>\n",
       "      <td>#Verificamos: Mulher não foi expulsa de voo co...</td>\n",
       "      <td>4.0</td>\n",
       "      <td>6</td>\n",
       "      <td>Falso</td>\n",
       "      <td>0</td>\n",
       "      <td>[Eleitora, PT, dá, tapa, aeromoça, conta, pass...</td>\n",
       "    </tr>\n",
       "  </tbody>\n",
       "</table>\n",
       "</div>"
      ],
      "text/plain": [
       "                                                    URL  \\\n",
       "222   https://aosfatos.org/noticias/termo-black-frid...   \n",
       "856   https://piaui.folha.uol.com.br/lupa/2019/06/07...   \n",
       "791   https://piaui.folha.uol.com.br/lupa/2019/07/16...   \n",
       "745   https://apublica.org/2016/06/truco-verdades-e-...   \n",
       "1216  https://piaui.folha.uol.com.br/lupa/2018/10/07...   \n",
       "\n",
       "                                Author        datePublished  \\\n",
       "222             https:www.aosfatos.org           2018-11-26   \n",
       "856   https:piaui.folha.uol.com.brlupa  2019-06-07 16:31:38   \n",
       "791   https:piaui.folha.uol.com.brlupa  2019-07-16 20:05:23   \n",
       "745                 https:apublica.org           2016-06-03   \n",
       "1216  https:piaui.folha.uol.com.brlupa  2018-10-07 16:47:24   \n",
       "\n",
       "                                          claimReviewed  \\\n",
       "222         Termo black friday tem origem na escravidão   \n",
       "856   Esta é uma rua na Venezuela. Isso é dinheiro n...   \n",
       "791   Isso aconteceu no #Brasil durante uma missa em...   \n",
       "745   Não adianta vir aqui dizer que essa vitória é ...   \n",
       "1216  Eleitora do PT dá tapa na aeromoça por conta d...   \n",
       "\n",
       "                                             reviewBody  \\\n",
       "222   Na verdade, o termo surgiu em 24 de setembro d...   \n",
       "856                                               Empty   \n",
       "791                                               Empty   \n",
       "745   A deputada federal Jandira Feghali PCdoB-RJ af...   \n",
       "1216                                              Empty   \n",
       "\n",
       "                                                  title  ratingValue  \\\n",
       "222   Termo ‘black friday’ não tem nada a ver com es...          1.0   \n",
       "856   #Verificamos:  falso que dinheiro tenha sido d...          4.0   \n",
       "791   #Verificamos:  falso que padre Marcelo foi ata...          4.0   \n",
       "745   Verdades e mentiras sobre o pacotão de reajust...          7.0   \n",
       "1216  #Verificamos: Mulher não foi expulsa de voo co...          4.0   \n",
       "\n",
       "      bestRating alternativeName  True/Fake  \\\n",
       "222            5           falso          0   \n",
       "856            6           Falso          0   \n",
       "791            6           Falso          0   \n",
       "745            8    Sem contexto          0   \n",
       "1216           6           Falso          0   \n",
       "\n",
       "                                             Clean Text  \n",
       "222          [Termo, black, friday, origem, escravidão]  \n",
       "856   [rua, Venezuela, dinheiro, sarjeta, inútil, Be...  \n",
       "791   [aconteceu, Brasil, durante, missa, Cachoeira,...  \n",
       "745   [adianta, vir, aqui, dizer, vitória, governo, ...  \n",
       "1216  [Eleitora, PT, dá, tapa, aeromoça, conta, pass...  "
      ]
     },
     "execution_count": 25,
     "metadata": {},
     "output_type": "execute_result"
    }
   ],
   "source": [
    "data_news.sample(5)"
   ]
  },
  {
   "cell_type": "markdown",
   "metadata": {},
   "source": [
    "#### Vectorization\n",
    "Convert the collection of text documents to a matrix of token counts."
   ]
  },
  {
   "cell_type": "code",
   "execution_count": 26,
   "metadata": {},
   "outputs": [],
   "source": [
    "from sklearn.feature_extraction.text import CountVectorizer"
   ]
  },
  {
   "cell_type": "code",
   "execution_count": 27,
   "metadata": {},
   "outputs": [
    {
     "name": "stdout",
     "output_type": "stream",
     "text": [
      "Total vocabulary words: 1157\n"
     ]
    }
   ],
   "source": [
    "# Bag-of-Words (bow) transform the entire DataFrame of text\n",
    "# transforming tokens into useful features\n",
    "bow_transformer = CountVectorizer(analyzer=process_text).fit(data_news['Clean Text'])\n",
    "print(f'Total vocabulary words: {len(bow_transformer.vocabulary_)}') "
   ]
  },
  {
   "cell_type": "code",
   "execution_count": 29,
   "metadata": {},
   "outputs": [],
   "source": [
    "news_bow = bow_transformer.transform(data_news['Clean Text'])"
   ]
  },
  {
   "cell_type": "code",
   "execution_count": 30,
   "metadata": {},
   "outputs": [
    {
     "name": "stdout",
     "output_type": "stream",
     "text": [
      "Shape of Sparse Matrix: (1176, 1157)\n",
      "Amount of Non-Zero occurences: 1176\n"
     ]
    }
   ],
   "source": [
    "# printing out the shape of our Matrix\n",
    "print(f'Shape of Sparse Matrix: {news_bow.shape}')\n",
    "print(f'Amount of Non-Zero occurences: {news_bow.nnz}')"
   ]
  },
  {
   "cell_type": "code",
   "execution_count": 31,
   "metadata": {},
   "outputs": [
    {
     "name": "stdout",
     "output_type": "stream",
     "text": [
      "sparsity: 0\n"
     ]
    }
   ],
   "source": [
    "# checking out sparsity\n",
    "sparsity = (100.0 * news_bow.nnz / (news_bow.shape[0] * news_bow.shape[1]))\n",
    "print(f'sparsity: {round(sparsity)}')"
   ]
  },
  {
   "cell_type": "code",
   "execution_count": 32,
   "metadata": {},
   "outputs": [],
   "source": [
    "# extracting text with Transformer\n",
    "from sklearn.feature_extraction.text import TfidfTransformer"
   ]
  },
  {
   "cell_type": "code",
   "execution_count": 33,
   "metadata": {},
   "outputs": [
    {
     "name": "stdout",
     "output_type": "stream",
     "text": [
      "(1176, 1157)\n"
     ]
    }
   ],
   "source": [
    "# checking new shape\n",
    "tfidf_transformer = TfidfTransformer().fit(news_bow)\n",
    "news_tfidf = tfidf_transformer.transform(news_bow)\n",
    "print(news_tfidf.shape)"
   ]
  },
  {
   "cell_type": "markdown",
   "metadata": {},
   "source": [
    "#### Build and train the model"
   ]
  },
  {
   "cell_type": "code",
   "execution_count": 34,
   "metadata": {},
   "outputs": [],
   "source": [
    "# importing algorithm\n",
    "from sklearn.naive_bayes import MultinomialNB"
   ]
  },
  {
   "cell_type": "code",
   "execution_count": 35,
   "metadata": {},
   "outputs": [],
   "source": [
    "fakenews_detect_model = MultinomialNB().fit(news_tfidf, data_news['True/Fake'])"
   ]
  },
  {
   "cell_type": "code",
   "execution_count": 36,
   "metadata": {},
   "outputs": [
    {
     "name": "stdout",
     "output_type": "stream",
     "text": [
      "[0 0 0 ... 0 0 0]\n"
     ]
    }
   ],
   "source": [
    "# Model Evaluation\n",
    "predictions = fakenews_detect_model.predict(news_tfidf)\n",
    "print(predictions)"
   ]
  },
  {
   "cell_type": "code",
   "execution_count": 65,
   "metadata": {},
   "outputs": [
    {
     "name": "stdout",
     "output_type": "stream",
     "text": [
      "              precision    recall  f1-score   support\n",
      "\n",
      "           0       0.90      1.00      0.95      1057\n",
      "           1       1.00      0.00      0.00       119\n",
      "\n",
      "    accuracy                           0.90      1176\n",
      "   macro avg       0.95      0.50      0.47      1176\n",
      "weighted avg       0.91      0.90      0.85      1176\n",
      "\n"
     ]
    }
   ],
   "source": [
    "# importing metrics to check preditions\n",
    "from sklearn.metrics import classification_report\n",
    "print (classification_report(data_news['True/Fake'], predictions, zero_division=1,))"
   ]
  },
  {
   "cell_type": "markdown",
   "metadata": {},
   "source": [
    "#### Build pipeline"
   ]
  },
  {
   "cell_type": "code",
   "execution_count": 58,
   "metadata": {},
   "outputs": [],
   "source": [
    "# importing train_test_split to split the data and train the model\n",
    "from sklearn.model_selection import train_test_split\n",
    "\n",
    "news_train, news_test, text_train, text_test = train_test_split(data_news['claimReviewed'], data_news['True/Fake'], test_size=0.3)"
   ]
  },
  {
   "cell_type": "code",
   "execution_count": 59,
   "metadata": {},
   "outputs": [
    {
     "data": {
      "text/plain": [
       "Pipeline(memory=None,\n",
       "         steps=[('bow',\n",
       "                 CountVectorizer(analyzer=<function process_text at 0x000000E57CEBDB80>,\n",
       "                                 binary=False, decode_error='strict',\n",
       "                                 dtype=<class 'numpy.int64'>, encoding='utf-8',\n",
       "                                 input='content', lowercase=True, max_df=1.0,\n",
       "                                 max_features=None, min_df=1,\n",
       "                                 ngram_range=(1, 1), preprocessor=None,\n",
       "                                 stop_words=None, strip_accents=None,\n",
       "                                 token_pattern='(?u)\\\\b\\\\w\\\\w+\\\\b',\n",
       "                                 tokenizer=None, vocabulary=None)),\n",
       "                ('tfidf',\n",
       "                 TfidfTransformer(norm='l2', smooth_idf=True,\n",
       "                                  sublinear_tf=False, use_idf=True)),\n",
       "                ('classifier',\n",
       "                 MultinomialNB(alpha=1.5, class_prior=None, fit_prior=True))],\n",
       "         verbose=False)"
      ]
     },
     "execution_count": 59,
     "metadata": {},
     "output_type": "execute_result"
    }
   ],
   "source": [
    "# building pipeline\n",
    "from sklearn.pipeline import Pipeline\n",
    "\n",
    "pipeline = Pipeline([\n",
    "    ('bow', CountVectorizer(analyzer=process_text)),  \n",
    "    ('tfidf', TfidfTransformer()),  \n",
    "    ('classifier', MultinomialNB(alpha=1.5)),  \n",
    "])\n",
    "pipeline.fit(news_train, text_train)"
   ]
  },
  {
   "cell_type": "code",
   "execution_count": 79,
   "metadata": {},
   "outputs": [],
   "source": [
    "# predicting news on test dataset\n",
    "prediction = pipeline.predict(news_test)"
   ]
  },
  {
   "cell_type": "markdown",
   "metadata": {},
   "source": [
    "#### Evaluating the model"
   ]
  },
  {
   "cell_type": "code",
   "execution_count": 80,
   "metadata": {},
   "outputs": [
    {
     "name": "stdout",
     "output_type": "stream",
     "text": [
      "0.9065155807365439\n"
     ]
    }
   ],
   "source": [
    "from sklearn.metrics import accuracy_score\n",
    "print(accuracy_score(text_test, prediction))"
   ]
  },
  {
   "cell_type": "code",
   "execution_count": 81,
   "metadata": {},
   "outputs": [
    {
     "name": "stdout",
     "output_type": "stream",
     "text": [
      "              precision    recall  f1-score   support\n",
      "\n",
      "           0       0.91      1.00      0.95       320\n",
      "           1       0.00      0.00      0.00        33\n",
      "\n",
      "    accuracy                           0.91       353\n",
      "   macro avg       0.45      0.50      0.48       353\n",
      "weighted avg       0.82      0.91      0.86       353\n",
      "\n"
     ]
    }
   ],
   "source": [
    "# printing out classification report\n",
    "print(classification_report(text_test, prediction, zero_division=0))"
   ]
  },
  {
   "cell_type": "markdown",
   "metadata": {},
   "source": [
    "- Since the dataset is unbalanced (more fake news than true news), accuracy **is not a good metric to evaluate the performance of our model.** \n",
    "- Analysing the classification report, we can see that our model nicely predicts fake news (labeled 0), but failed to predict true news(labeled 1). "
   ]
  }
 ],
 "metadata": {
  "kernelspec": {
   "display_name": "Python 3",
   "language": "python",
   "name": "python3"
  },
  "language_info": {
   "codemirror_mode": {
    "name": "ipython",
    "version": 3
   },
   "file_extension": ".py",
   "mimetype": "text/x-python",
   "name": "python",
   "nbconvert_exporter": "python",
   "pygments_lexer": "ipython3",
   "version": "3.8.0"
  }
 },
 "nbformat": 4,
 "nbformat_minor": 4
}
