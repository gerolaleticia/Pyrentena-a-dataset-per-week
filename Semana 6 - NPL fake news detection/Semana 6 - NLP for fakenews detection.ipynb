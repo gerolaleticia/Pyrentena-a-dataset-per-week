{
 "cells": [
  {
   "cell_type": "markdown",
   "metadata": {},
   "source": [
    "# NLP for Fake News detection\n",
    "Applying Neural Language Processing to try and identify fake news from 'true' news. \n",
    "\n",
    "Due to tokenization process, its indicate to replicate this code on a Google Colab environment.\n",
    "\n",
    "Dataset availabke at: https://www.kaggle.com/clmentbisaillon/fake-and-real-news-dataset "
   ]
  },
  {
   "cell_type": "markdown",
   "metadata": {},
   "source": [
    "### Data exploration"
   ]
  },
  {
   "cell_type": "code",
   "execution_count": 1,
   "metadata": {},
   "outputs": [],
   "source": [
    "# importing necessary libs\n",
    "import pandas as pd\n",
    "import numpy as np"
   ]
  },
  {
   "cell_type": "code",
   "execution_count": 2,
   "metadata": {},
   "outputs": [],
   "source": [
    "# reading csv into a dataframe\n",
    "fake_news = pd.read_csv('Fake.csv')\n",
    "true_news = pd.read_csv('True.csv')"
   ]
  },
  {
   "cell_type": "code",
   "execution_count": 3,
   "metadata": {},
   "outputs": [
    {
     "data": {
      "text/html": [
       "<div>\n",
       "<style scoped>\n",
       "    .dataframe tbody tr th:only-of-type {\n",
       "        vertical-align: middle;\n",
       "    }\n",
       "\n",
       "    .dataframe tbody tr th {\n",
       "        vertical-align: top;\n",
       "    }\n",
       "\n",
       "    .dataframe thead th {\n",
       "        text-align: right;\n",
       "    }\n",
       "</style>\n",
       "<table border=\"1\" class=\"dataframe\">\n",
       "  <thead>\n",
       "    <tr style=\"text-align: right;\">\n",
       "      <th></th>\n",
       "      <th>title</th>\n",
       "      <th>text</th>\n",
       "      <th>subject</th>\n",
       "      <th>date</th>\n",
       "    </tr>\n",
       "  </thead>\n",
       "  <tbody>\n",
       "    <tr>\n",
       "      <th>0</th>\n",
       "      <td>As U.S. budget fight looms, Republicans flip t...</td>\n",
       "      <td>WASHINGTON (Reuters) - The head of a conservat...</td>\n",
       "      <td>politicsNews</td>\n",
       "      <td>December 31, 2017</td>\n",
       "    </tr>\n",
       "    <tr>\n",
       "      <th>1</th>\n",
       "      <td>U.S. military to accept transgender recruits o...</td>\n",
       "      <td>WASHINGTON (Reuters) - Transgender people will...</td>\n",
       "      <td>politicsNews</td>\n",
       "      <td>December 29, 2017</td>\n",
       "    </tr>\n",
       "    <tr>\n",
       "      <th>2</th>\n",
       "      <td>Senior U.S. Republican senator: 'Let Mr. Muell...</td>\n",
       "      <td>WASHINGTON (Reuters) - The special counsel inv...</td>\n",
       "      <td>politicsNews</td>\n",
       "      <td>December 31, 2017</td>\n",
       "    </tr>\n",
       "    <tr>\n",
       "      <th>3</th>\n",
       "      <td>FBI Russia probe helped by Australian diplomat...</td>\n",
       "      <td>WASHINGTON (Reuters) - Trump campaign adviser ...</td>\n",
       "      <td>politicsNews</td>\n",
       "      <td>December 30, 2017</td>\n",
       "    </tr>\n",
       "    <tr>\n",
       "      <th>4</th>\n",
       "      <td>Trump wants Postal Service to charge 'much mor...</td>\n",
       "      <td>SEATTLE/WASHINGTON (Reuters) - President Donal...</td>\n",
       "      <td>politicsNews</td>\n",
       "      <td>December 29, 2017</td>\n",
       "    </tr>\n",
       "  </tbody>\n",
       "</table>\n",
       "</div>"
      ],
      "text/plain": [
       "                                               title  \\\n",
       "0  As U.S. budget fight looms, Republicans flip t...   \n",
       "1  U.S. military to accept transgender recruits o...   \n",
       "2  Senior U.S. Republican senator: 'Let Mr. Muell...   \n",
       "3  FBI Russia probe helped by Australian diplomat...   \n",
       "4  Trump wants Postal Service to charge 'much mor...   \n",
       "\n",
       "                                                text       subject  \\\n",
       "0  WASHINGTON (Reuters) - The head of a conservat...  politicsNews   \n",
       "1  WASHINGTON (Reuters) - Transgender people will...  politicsNews   \n",
       "2  WASHINGTON (Reuters) - The special counsel inv...  politicsNews   \n",
       "3  WASHINGTON (Reuters) - Trump campaign adviser ...  politicsNews   \n",
       "4  SEATTLE/WASHINGTON (Reuters) - President Donal...  politicsNews   \n",
       "\n",
       "                 date  \n",
       "0  December 31, 2017   \n",
       "1  December 29, 2017   \n",
       "2  December 31, 2017   \n",
       "3  December 30, 2017   \n",
       "4  December 29, 2017   "
      ]
     },
     "execution_count": 3,
     "metadata": {},
     "output_type": "execute_result"
    }
   ],
   "source": [
    "true_news.head()"
   ]
  },
  {
   "cell_type": "code",
   "execution_count": 4,
   "metadata": {},
   "outputs": [
    {
     "data": {
      "text/html": [
       "<div>\n",
       "<style scoped>\n",
       "    .dataframe tbody tr th:only-of-type {\n",
       "        vertical-align: middle;\n",
       "    }\n",
       "\n",
       "    .dataframe tbody tr th {\n",
       "        vertical-align: top;\n",
       "    }\n",
       "\n",
       "    .dataframe thead th {\n",
       "        text-align: right;\n",
       "    }\n",
       "</style>\n",
       "<table border=\"1\" class=\"dataframe\">\n",
       "  <thead>\n",
       "    <tr style=\"text-align: right;\">\n",
       "      <th></th>\n",
       "      <th>title</th>\n",
       "      <th>text</th>\n",
       "      <th>subject</th>\n",
       "      <th>date</th>\n",
       "    </tr>\n",
       "  </thead>\n",
       "  <tbody>\n",
       "    <tr>\n",
       "      <th>0</th>\n",
       "      <td>Donald Trump Sends Out Embarrassing New Year’...</td>\n",
       "      <td>Donald Trump just couldn t wish all Americans ...</td>\n",
       "      <td>News</td>\n",
       "      <td>December 31, 2017</td>\n",
       "    </tr>\n",
       "    <tr>\n",
       "      <th>1</th>\n",
       "      <td>Drunk Bragging Trump Staffer Started Russian ...</td>\n",
       "      <td>House Intelligence Committee Chairman Devin Nu...</td>\n",
       "      <td>News</td>\n",
       "      <td>December 31, 2017</td>\n",
       "    </tr>\n",
       "    <tr>\n",
       "      <th>2</th>\n",
       "      <td>Sheriff David Clarke Becomes An Internet Joke...</td>\n",
       "      <td>On Friday, it was revealed that former Milwauk...</td>\n",
       "      <td>News</td>\n",
       "      <td>December 30, 2017</td>\n",
       "    </tr>\n",
       "    <tr>\n",
       "      <th>3</th>\n",
       "      <td>Trump Is So Obsessed He Even Has Obama’s Name...</td>\n",
       "      <td>On Christmas day, Donald Trump announced that ...</td>\n",
       "      <td>News</td>\n",
       "      <td>December 29, 2017</td>\n",
       "    </tr>\n",
       "    <tr>\n",
       "      <th>4</th>\n",
       "      <td>Pope Francis Just Called Out Donald Trump Dur...</td>\n",
       "      <td>Pope Francis used his annual Christmas Day mes...</td>\n",
       "      <td>News</td>\n",
       "      <td>December 25, 2017</td>\n",
       "    </tr>\n",
       "  </tbody>\n",
       "</table>\n",
       "</div>"
      ],
      "text/plain": [
       "                                               title  \\\n",
       "0   Donald Trump Sends Out Embarrassing New Year’...   \n",
       "1   Drunk Bragging Trump Staffer Started Russian ...   \n",
       "2   Sheriff David Clarke Becomes An Internet Joke...   \n",
       "3   Trump Is So Obsessed He Even Has Obama’s Name...   \n",
       "4   Pope Francis Just Called Out Donald Trump Dur...   \n",
       "\n",
       "                                                text subject  \\\n",
       "0  Donald Trump just couldn t wish all Americans ...    News   \n",
       "1  House Intelligence Committee Chairman Devin Nu...    News   \n",
       "2  On Friday, it was revealed that former Milwauk...    News   \n",
       "3  On Christmas day, Donald Trump announced that ...    News   \n",
       "4  Pope Francis used his annual Christmas Day mes...    News   \n",
       "\n",
       "                date  \n",
       "0  December 31, 2017  \n",
       "1  December 31, 2017  \n",
       "2  December 30, 2017  \n",
       "3  December 29, 2017  \n",
       "4  December 25, 2017  "
      ]
     },
     "execution_count": 4,
     "metadata": {},
     "output_type": "execute_result"
    }
   ],
   "source": [
    "fake_news.head()"
   ]
  },
  {
   "cell_type": "code",
   "execution_count": 5,
   "metadata": {},
   "outputs": [
    {
     "data": {
      "text/plain": [
       "((23481, 4), (21417, 4))"
      ]
     },
     "execution_count": 5,
     "metadata": {},
     "output_type": "execute_result"
    }
   ],
   "source": [
    "# number of columns and rows of each dataframe\n",
    "fake_news.shape, true_news.shape"
   ]
  },
  {
   "cell_type": "code",
   "execution_count": 6,
   "metadata": {},
   "outputs": [
    {
     "data": {
      "text/html": [
       "<div>\n",
       "<style scoped>\n",
       "    .dataframe tbody tr th:only-of-type {\n",
       "        vertical-align: middle;\n",
       "    }\n",
       "\n",
       "    .dataframe tbody tr th {\n",
       "        vertical-align: top;\n",
       "    }\n",
       "\n",
       "    .dataframe thead th {\n",
       "        text-align: right;\n",
       "    }\n",
       "</style>\n",
       "<table border=\"1\" class=\"dataframe\">\n",
       "  <thead>\n",
       "    <tr style=\"text-align: right;\">\n",
       "      <th></th>\n",
       "      <th>count</th>\n",
       "      <th>unique</th>\n",
       "      <th>top</th>\n",
       "      <th>freq</th>\n",
       "    </tr>\n",
       "  </thead>\n",
       "  <tbody>\n",
       "    <tr>\n",
       "      <th>title</th>\n",
       "      <td>23481</td>\n",
       "      <td>17903</td>\n",
       "      <td>MEDIA IGNORES Time That Bill Clinton FIRED His...</td>\n",
       "      <td>6</td>\n",
       "    </tr>\n",
       "    <tr>\n",
       "      <th>text</th>\n",
       "      <td>23481</td>\n",
       "      <td>17455</td>\n",
       "      <td></td>\n",
       "      <td>626</td>\n",
       "    </tr>\n",
       "    <tr>\n",
       "      <th>subject</th>\n",
       "      <td>23481</td>\n",
       "      <td>6</td>\n",
       "      <td>News</td>\n",
       "      <td>9050</td>\n",
       "    </tr>\n",
       "    <tr>\n",
       "      <th>date</th>\n",
       "      <td>23481</td>\n",
       "      <td>1681</td>\n",
       "      <td>May 10, 2017</td>\n",
       "      <td>46</td>\n",
       "    </tr>\n",
       "  </tbody>\n",
       "</table>\n",
       "</div>"
      ],
      "text/plain": [
       "         count unique                                                top  freq\n",
       "title    23481  17903  MEDIA IGNORES Time That Bill Clinton FIRED His...     6\n",
       "text     23481  17455                                                      626\n",
       "subject  23481      6                                               News  9050\n",
       "date     23481   1681                                       May 10, 2017    46"
      ]
     },
     "execution_count": 6,
     "metadata": {},
     "output_type": "execute_result"
    }
   ],
   "source": [
    "fake_news.describe().T"
   ]
  },
  {
   "cell_type": "code",
   "execution_count": 7,
   "metadata": {},
   "outputs": [
    {
     "data": {
      "text/html": [
       "<div>\n",
       "<style scoped>\n",
       "    .dataframe tbody tr th:only-of-type {\n",
       "        vertical-align: middle;\n",
       "    }\n",
       "\n",
       "    .dataframe tbody tr th {\n",
       "        vertical-align: top;\n",
       "    }\n",
       "\n",
       "    .dataframe thead th {\n",
       "        text-align: right;\n",
       "    }\n",
       "</style>\n",
       "<table border=\"1\" class=\"dataframe\">\n",
       "  <thead>\n",
       "    <tr style=\"text-align: right;\">\n",
       "      <th></th>\n",
       "      <th>count</th>\n",
       "      <th>unique</th>\n",
       "      <th>top</th>\n",
       "      <th>freq</th>\n",
       "    </tr>\n",
       "  </thead>\n",
       "  <tbody>\n",
       "    <tr>\n",
       "      <th>title</th>\n",
       "      <td>21417</td>\n",
       "      <td>20826</td>\n",
       "      <td>Factbox: Trump fills top jobs for his administ...</td>\n",
       "      <td>14</td>\n",
       "    </tr>\n",
       "    <tr>\n",
       "      <th>text</th>\n",
       "      <td>21417</td>\n",
       "      <td>21192</td>\n",
       "      <td>(Reuters) - Highlights for U.S. President Dona...</td>\n",
       "      <td>8</td>\n",
       "    </tr>\n",
       "    <tr>\n",
       "      <th>subject</th>\n",
       "      <td>21417</td>\n",
       "      <td>2</td>\n",
       "      <td>politicsNews</td>\n",
       "      <td>11272</td>\n",
       "    </tr>\n",
       "    <tr>\n",
       "      <th>date</th>\n",
       "      <td>21417</td>\n",
       "      <td>716</td>\n",
       "      <td>December 20, 2017</td>\n",
       "      <td>182</td>\n",
       "    </tr>\n",
       "  </tbody>\n",
       "</table>\n",
       "</div>"
      ],
      "text/plain": [
       "         count unique                                                top  \\\n",
       "title    21417  20826  Factbox: Trump fills top jobs for his administ...   \n",
       "text     21417  21192  (Reuters) - Highlights for U.S. President Dona...   \n",
       "subject  21417      2                                       politicsNews   \n",
       "date     21417    716                                 December 20, 2017    \n",
       "\n",
       "          freq  \n",
       "title       14  \n",
       "text         8  \n",
       "subject  11272  \n",
       "date       182  "
      ]
     },
     "execution_count": 7,
     "metadata": {},
     "output_type": "execute_result"
    }
   ],
   "source": [
    "true_news.describe().T"
   ]
  },
  {
   "cell_type": "code",
   "execution_count": 8,
   "metadata": {},
   "outputs": [],
   "source": [
    "# adding feature that will be target variable True/Fake\n",
    "fake_news['True/Fake'] = 'True'\n",
    "true_news['True/Fake'] = 'Fake'"
   ]
  },
  {
   "cell_type": "code",
   "execution_count": 9,
   "metadata": {},
   "outputs": [],
   "source": [
    "# combining the dataframes into a single one using concat method\n",
    "total_news = pd.concat([true_news, fake_news])\n",
    "total_news['Article'] = total_news['title'] + total_news['text'] # merging columns title and text"
   ]
  },
  {
   "cell_type": "code",
   "execution_count": 10,
   "metadata": {},
   "outputs": [
    {
     "data": {
      "text/html": [
       "<div>\n",
       "<style scoped>\n",
       "    .dataframe tbody tr th:only-of-type {\n",
       "        vertical-align: middle;\n",
       "    }\n",
       "\n",
       "    .dataframe tbody tr th {\n",
       "        vertical-align: top;\n",
       "    }\n",
       "\n",
       "    .dataframe thead th {\n",
       "        text-align: right;\n",
       "    }\n",
       "</style>\n",
       "<table border=\"1\" class=\"dataframe\">\n",
       "  <thead>\n",
       "    <tr style=\"text-align: right;\">\n",
       "      <th></th>\n",
       "      <th>title</th>\n",
       "      <th>text</th>\n",
       "      <th>subject</th>\n",
       "      <th>date</th>\n",
       "      <th>True/Fake</th>\n",
       "      <th>Article</th>\n",
       "    </tr>\n",
       "  </thead>\n",
       "  <tbody>\n",
       "    <tr>\n",
       "      <th>4020</th>\n",
       "      <td>Congress readies votes Friday on bill to avert...</td>\n",
       "      <td>WASHINGTON (Reuters) - The U.S. Congress is se...</td>\n",
       "      <td>politicsNews</td>\n",
       "      <td>April 27, 2017</td>\n",
       "      <td>Fake</td>\n",
       "      <td>Congress readies votes Friday on bill to avert...</td>\n",
       "    </tr>\n",
       "    <tr>\n",
       "      <th>4844</th>\n",
       "      <td>Highlights: The Trump presidency on March 19 a...</td>\n",
       "      <td>(Reuters) - Highlights of the day for U.S. Pre...</td>\n",
       "      <td>politicsNews</td>\n",
       "      <td>March 19, 2017</td>\n",
       "      <td>Fake</td>\n",
       "      <td>Highlights: The Trump presidency on March 19 a...</td>\n",
       "    </tr>\n",
       "    <tr>\n",
       "      <th>16457</th>\n",
       "      <td>JUDGE JEANINE Tells Us What The Smoking Gun Is...</td>\n",
       "      <td>Judge Jeanine gives us facts on the relationsh...</td>\n",
       "      <td>Government News</td>\n",
       "      <td>Aug 12, 2016</td>\n",
       "      <td>True</td>\n",
       "      <td>JUDGE JEANINE Tells Us What The Smoking Gun Is...</td>\n",
       "    </tr>\n",
       "    <tr>\n",
       "      <th>11138</th>\n",
       "      <td>YIKES! JUST WHEN Everyone Thought Things Could...</td>\n",
       "      <td>It s been a bumpy PR ride for United Airlines,...</td>\n",
       "      <td>politics</td>\n",
       "      <td>Apr 14, 2017</td>\n",
       "      <td>True</td>\n",
       "      <td>YIKES! JUST WHEN Everyone Thought Things Could...</td>\n",
       "    </tr>\n",
       "    <tr>\n",
       "      <th>4087</th>\n",
       "      <td>Factbox: U.S. Congress investigates links betw...</td>\n",
       "      <td>(Reuters) - Republican leaders in the U.S. Con...</td>\n",
       "      <td>politicsNews</td>\n",
       "      <td>April 25, 2017</td>\n",
       "      <td>Fake</td>\n",
       "      <td>Factbox: U.S. Congress investigates links betw...</td>\n",
       "    </tr>\n",
       "    <tr>\n",
       "      <th>...</th>\n",
       "      <td>...</td>\n",
       "      <td>...</td>\n",
       "      <td>...</td>\n",
       "      <td>...</td>\n",
       "      <td>...</td>\n",
       "      <td>...</td>\n",
       "    </tr>\n",
       "    <tr>\n",
       "      <th>20243</th>\n",
       "      <td>BREAKING: HILLARY MAKES DIVERSE PICK FOR VP….W...</td>\n",
       "      <td>So much for that whole diversity thing I'm thr...</td>\n",
       "      <td>left-news</td>\n",
       "      <td>Jul 22, 2016</td>\n",
       "      <td>True</td>\n",
       "      <td>BREAKING: HILLARY MAKES DIVERSE PICK FOR VP….W...</td>\n",
       "    </tr>\n",
       "    <tr>\n",
       "      <th>10948</th>\n",
       "      <td>BREAKING REPORT: ANTIFA THUGS PLACE BOUNTY On ...</td>\n",
       "      <td>The next time you hear someone talk about how ...</td>\n",
       "      <td>politics</td>\n",
       "      <td>May 7, 2017</td>\n",
       "      <td>True</td>\n",
       "      <td>BREAKING REPORT: ANTIFA THUGS PLACE BOUNTY On ...</td>\n",
       "    </tr>\n",
       "    <tr>\n",
       "      <th>23109</th>\n",
       "      <td>SUNDAY SCREENING: 24 Hours After Hiroshima (2010)</td>\n",
       "      <td>21st Century Wire says This week s documentary...</td>\n",
       "      <td>Middle-east</td>\n",
       "      <td>December 11, 2016</td>\n",
       "      <td>True</td>\n",
       "      <td>SUNDAY SCREENING: 24 Hours After Hiroshima (20...</td>\n",
       "    </tr>\n",
       "    <tr>\n",
       "      <th>5563</th>\n",
       "      <td>Trump's Supreme Court pick dispirited by presi...</td>\n",
       "      <td>WASHINGTON (Reuters) - Donald Trump’s Supreme ...</td>\n",
       "      <td>politicsNews</td>\n",
       "      <td>February 6, 2017</td>\n",
       "      <td>Fake</td>\n",
       "      <td>Trump's Supreme Court pick dispirited by presi...</td>\n",
       "    </tr>\n",
       "    <tr>\n",
       "      <th>10953</th>\n",
       "      <td>In contentious debate, Clinton and Sanders bot...</td>\n",
       "      <td>DURHAM, N.H. (Reuters) - Democrat Hillary Clin...</td>\n",
       "      <td>politicsNews</td>\n",
       "      <td>February 4, 2016</td>\n",
       "      <td>Fake</td>\n",
       "      <td>In contentious debate, Clinton and Sanders bot...</td>\n",
       "    </tr>\n",
       "  </tbody>\n",
       "</table>\n",
       "<p>44898 rows × 6 columns</p>\n",
       "</div>"
      ],
      "text/plain": [
       "                                                   title  \\\n",
       "4020   Congress readies votes Friday on bill to avert...   \n",
       "4844   Highlights: The Trump presidency on March 19 a...   \n",
       "16457  JUDGE JEANINE Tells Us What The Smoking Gun Is...   \n",
       "11138  YIKES! JUST WHEN Everyone Thought Things Could...   \n",
       "4087   Factbox: U.S. Congress investigates links betw...   \n",
       "...                                                  ...   \n",
       "20243  BREAKING: HILLARY MAKES DIVERSE PICK FOR VP….W...   \n",
       "10948  BREAKING REPORT: ANTIFA THUGS PLACE BOUNTY On ...   \n",
       "23109  SUNDAY SCREENING: 24 Hours After Hiroshima (2010)   \n",
       "5563   Trump's Supreme Court pick dispirited by presi...   \n",
       "10953  In contentious debate, Clinton and Sanders bot...   \n",
       "\n",
       "                                                    text          subject  \\\n",
       "4020   WASHINGTON (Reuters) - The U.S. Congress is se...     politicsNews   \n",
       "4844   (Reuters) - Highlights of the day for U.S. Pre...     politicsNews   \n",
       "16457  Judge Jeanine gives us facts on the relationsh...  Government News   \n",
       "11138  It s been a bumpy PR ride for United Airlines,...         politics   \n",
       "4087   (Reuters) - Republican leaders in the U.S. Con...     politicsNews   \n",
       "...                                                  ...              ...   \n",
       "20243  So much for that whole diversity thing I'm thr...        left-news   \n",
       "10948  The next time you hear someone talk about how ...         politics   \n",
       "23109  21st Century Wire says This week s documentary...      Middle-east   \n",
       "5563   WASHINGTON (Reuters) - Donald Trump’s Supreme ...     politicsNews   \n",
       "10953  DURHAM, N.H. (Reuters) - Democrat Hillary Clin...     politicsNews   \n",
       "\n",
       "                    date True/Fake  \\\n",
       "4020     April 27, 2017       Fake   \n",
       "4844     March 19, 2017       Fake   \n",
       "16457       Aug 12, 2016      True   \n",
       "11138       Apr 14, 2017      True   \n",
       "4087     April 25, 2017       Fake   \n",
       "...                  ...       ...   \n",
       "20243       Jul 22, 2016      True   \n",
       "10948        May 7, 2017      True   \n",
       "23109  December 11, 2016      True   \n",
       "5563   February 6, 2017       Fake   \n",
       "10953  February 4, 2016       Fake   \n",
       "\n",
       "                                                 Article  \n",
       "4020   Congress readies votes Friday on bill to avert...  \n",
       "4844   Highlights: The Trump presidency on March 19 a...  \n",
       "16457  JUDGE JEANINE Tells Us What The Smoking Gun Is...  \n",
       "11138  YIKES! JUST WHEN Everyone Thought Things Could...  \n",
       "4087   Factbox: U.S. Congress investigates links betw...  \n",
       "...                                                  ...  \n",
       "20243  BREAKING: HILLARY MAKES DIVERSE PICK FOR VP….W...  \n",
       "10948  BREAKING REPORT: ANTIFA THUGS PLACE BOUNTY On ...  \n",
       "23109  SUNDAY SCREENING: 24 Hours After Hiroshima (20...  \n",
       "5563   Trump's Supreme Court pick dispirited by presi...  \n",
       "10953  In contentious debate, Clinton and Sanders bot...  \n",
       "\n",
       "[44898 rows x 6 columns]"
      ]
     },
     "execution_count": 10,
     "metadata": {},
     "output_type": "execute_result"
    }
   ],
   "source": [
    "# shuffling dataset 100% in order to mix True and Fake\n",
    "total_news.sample(frac=1)"
   ]
  },
  {
   "cell_type": "markdown",
   "metadata": {},
   "source": [
    "#### Basic Data Cleaning"
   ]
  },
  {
   "cell_type": "code",
   "execution_count": 14,
   "metadata": {},
   "outputs": [
    {
     "name": "stderr",
     "output_type": "stream",
     "text": [
      "[nltk_data] Downloading package stopwords to\n",
      "[nltk_data]     C:\\Users\\leticiag\\AppData\\Roaming\\nltk_data...\n",
      "[nltk_data]   Unzipping corpora\\stopwords.zip.\n"
     ]
    },
    {
     "data": {
      "text/plain": [
       "True"
      ]
     },
     "execution_count": 14,
     "metadata": {},
     "output_type": "execute_result"
    }
   ],
   "source": [
    "import nltk\n",
    "nltk.download('stopwords')"
   ]
  },
  {
   "cell_type": "code",
   "execution_count": 15,
   "metadata": {},
   "outputs": [],
   "source": [
    "# importing libs\n",
    "from nltk.corpus import stopwords\n",
    "import string"
   ]
  },
  {
   "cell_type": "code",
   "execution_count": 1,
   "metadata": {},
   "outputs": [],
   "source": [
    "# build function to process text\n",
    "def process_text(s):\n",
    "\n",
    "    # Check each string for punctuation\n",
    "    no_punc = [char for char in s if char not in string.punctuation]\n",
    "\n",
    "    # Join the characters again \n",
    "    no_punc = ''.join(no_punc)\n",
    "    \n",
    "    # Convert string to lowercase and remove stopwords\n",
    "    clean_string = [word for word in no_punc.split() if word.lower() not in stopwords.words('english')]\n",
    "    return clean_string"
   ]
  },
  {
   "cell_type": "code",
   "execution_count": 17,
   "metadata": {},
   "outputs": [],
   "source": [
    "# Tokenize article so words can be represented by numbers\n",
    "# Takes 3h avg on jupyter notebook, 30 minutes on Google Colab\n",
    "total_news['Clean Text'] = total_news['Article'].apply(process_text)"
   ]
  },
  {
   "cell_type": "code",
   "execution_count": 18,
   "metadata": {},
   "outputs": [
    {
     "data": {
      "text/html": [
       "<div>\n",
       "<style scoped>\n",
       "    .dataframe tbody tr th:only-of-type {\n",
       "        vertical-align: middle;\n",
       "    }\n",
       "\n",
       "    .dataframe tbody tr th {\n",
       "        vertical-align: top;\n",
       "    }\n",
       "\n",
       "    .dataframe thead th {\n",
       "        text-align: right;\n",
       "    }\n",
       "</style>\n",
       "<table border=\"1\" class=\"dataframe\">\n",
       "  <thead>\n",
       "    <tr style=\"text-align: right;\">\n",
       "      <th></th>\n",
       "      <th>title</th>\n",
       "      <th>text</th>\n",
       "      <th>subject</th>\n",
       "      <th>date</th>\n",
       "      <th>True/Fake</th>\n",
       "      <th>Article</th>\n",
       "      <th>Clean Text</th>\n",
       "    </tr>\n",
       "  </thead>\n",
       "  <tbody>\n",
       "    <tr>\n",
       "      <th>14695</th>\n",
       "      <td>China, Philippines agree to avoid force in Sou...</td>\n",
       "      <td>BEIJING/MANILA (Reuters) - China and the Phili...</td>\n",
       "      <td>worldnews</td>\n",
       "      <td>November 16, 2017</td>\n",
       "      <td>Fake</td>\n",
       "      <td>China, Philippines agree to avoid force in Sou...</td>\n",
       "      <td>[China, Philippines, agree, avoid, force, Sout...</td>\n",
       "    </tr>\n",
       "    <tr>\n",
       "      <th>15982</th>\n",
       "      <td>BURN! SEBASTIAN GORKA HUMILIATES MSNBC On Use ...</td>\n",
       "      <td>It s probably not the wisest decision to argue...</td>\n",
       "      <td>Government News</td>\n",
       "      <td>Aug 8, 2017</td>\n",
       "      <td>True</td>\n",
       "      <td>BURN! SEBASTIAN GORKA HUMILIATES MSNBC On Use ...</td>\n",
       "      <td>[BURN, SEBASTIAN, GORKA, HUMILIATES, MSNBC, Us...</td>\n",
       "    </tr>\n",
       "    <tr>\n",
       "      <th>18673</th>\n",
       "      <td>Syrian army and allies secure road after IS at...</td>\n",
       "      <td>BEIRUT (Reuters) - The Syrian army and its all...</td>\n",
       "      <td>worldnews</td>\n",
       "      <td>September 29, 2017</td>\n",
       "      <td>Fake</td>\n",
       "      <td>Syrian army and allies secure road after IS at...</td>\n",
       "      <td>[Syrian, army, allies, secure, road, attack, D...</td>\n",
       "    </tr>\n",
       "    <tr>\n",
       "      <th>3151</th>\n",
       "      <td>Trump likely to nominate former Senate aide Pe...</td>\n",
       "      <td>WASHINGTON (Reuters) - U.S. President Donald T...</td>\n",
       "      <td>politicsNews</td>\n",
       "      <td>June 16, 2017</td>\n",
       "      <td>Fake</td>\n",
       "      <td>Trump likely to nominate former Senate aide Pe...</td>\n",
       "      <td>[Trump, likely, nominate, former, Senate, aide...</td>\n",
       "    </tr>\n",
       "    <tr>\n",
       "      <th>1958</th>\n",
       "      <td>Trump Official Accidentally Leaks Plan To Ste...</td>\n",
       "      <td>Mexican President Enrique Pe a Nieto may not b...</td>\n",
       "      <td>News</td>\n",
       "      <td>March 29, 2017</td>\n",
       "      <td>True</td>\n",
       "      <td>Trump Official Accidentally Leaks Plan To Ste...</td>\n",
       "      <td>[Trump, Official, Accidentally, Leaks, Plan, S...</td>\n",
       "    </tr>\n",
       "  </tbody>\n",
       "</table>\n",
       "</div>"
      ],
      "text/plain": [
       "                                                   title  \\\n",
       "14695  China, Philippines agree to avoid force in Sou...   \n",
       "15982  BURN! SEBASTIAN GORKA HUMILIATES MSNBC On Use ...   \n",
       "18673  Syrian army and allies secure road after IS at...   \n",
       "3151   Trump likely to nominate former Senate aide Pe...   \n",
       "1958    Trump Official Accidentally Leaks Plan To Ste...   \n",
       "\n",
       "                                                    text          subject  \\\n",
       "14695  BEIJING/MANILA (Reuters) - China and the Phili...        worldnews   \n",
       "15982  It s probably not the wisest decision to argue...  Government News   \n",
       "18673  BEIRUT (Reuters) - The Syrian army and its all...        worldnews   \n",
       "3151   WASHINGTON (Reuters) - U.S. President Donald T...     politicsNews   \n",
       "1958   Mexican President Enrique Pe a Nieto may not b...             News   \n",
       "\n",
       "                      date True/Fake  \\\n",
       "14695   November 16, 2017       Fake   \n",
       "15982          Aug 8, 2017      True   \n",
       "18673  September 29, 2017       Fake   \n",
       "3151        June 16, 2017       Fake   \n",
       "1958        March 29, 2017      True   \n",
       "\n",
       "                                                 Article  \\\n",
       "14695  China, Philippines agree to avoid force in Sou...   \n",
       "15982  BURN! SEBASTIAN GORKA HUMILIATES MSNBC On Use ...   \n",
       "18673  Syrian army and allies secure road after IS at...   \n",
       "3151   Trump likely to nominate former Senate aide Pe...   \n",
       "1958    Trump Official Accidentally Leaks Plan To Ste...   \n",
       "\n",
       "                                              Clean Text  \n",
       "14695  [China, Philippines, agree, avoid, force, Sout...  \n",
       "15982  [BURN, SEBASTIAN, GORKA, HUMILIATES, MSNBC, Us...  \n",
       "18673  [Syrian, army, allies, secure, road, attack, D...  \n",
       "3151   [Trump, likely, nominate, former, Senate, aide...  \n",
       "1958   [Trump, Official, Accidentally, Leaks, Plan, S...  "
      ]
     },
     "execution_count": 18,
     "metadata": {},
     "output_type": "execute_result"
    }
   ],
   "source": [
    "total_news.sample(5)"
   ]
  },
  {
   "cell_type": "markdown",
   "metadata": {},
   "source": [
    "#### Vectorization\n",
    "Convert the collection of text documents to a matrix of token counts. "
   ]
  },
  {
   "cell_type": "code",
   "execution_count": 19,
   "metadata": {},
   "outputs": [],
   "source": [
    "from sklearn.feature_extraction.text import CountVectorizer"
   ]
  },
  {
   "cell_type": "code",
   "execution_count": 20,
   "metadata": {},
   "outputs": [],
   "source": [
    "# Bag-of-Words (bow) transform the entire DataFrame of text\n",
    "# transforming tokens into useful features\n",
    "bow_transformer = CountVectorizer(analyzer=process_text).fit(total_news['Clean Text'])"
   ]
  },
  {
   "cell_type": "code",
   "execution_count": 22,
   "metadata": {},
   "outputs": [
    {
     "name": "stdout",
     "output_type": "stream",
     "text": [
      "Total vocabulary words: 39099\n"
     ]
    }
   ],
   "source": [
    "print(f'Total vocabulary words: {len(bow_transformer.vocabulary_)}') "
   ]
  },
  {
   "cell_type": "code",
   "execution_count": 24,
   "metadata": {},
   "outputs": [],
   "source": [
    "news_bow = bow_transformer.transform(total_news['Clean Text'])"
   ]
  },
  {
   "cell_type": "code",
   "execution_count": 25,
   "metadata": {},
   "outputs": [
    {
     "name": "stdout",
     "output_type": "stream",
     "text": [
      "Shape of Sparse Matrix: (44898, 39099)\n",
      "Amount of Non-Zero occurences: 44898\n"
     ]
    }
   ],
   "source": [
    "# printing out the shape of our Matrix\n",
    "print(f'Shape of Sparse Matrix: {news_bow.shape}')\n",
    "print(f'Amount of Non-Zero occurences: {news_bow.nnz}')"
   ]
  },
  {
   "cell_type": "code",
   "execution_count": 27,
   "metadata": {},
   "outputs": [
    {
     "name": "stdout",
     "output_type": "stream",
     "text": [
      "sparsity: 0\n"
     ]
    }
   ],
   "source": [
    "# checking out sparsity\n",
    "sparsity = (100.0 * news_bow.nnz / (news_bow.shape[0] * news_bow.shape[1]))\n",
    "print(f'sparsity: {round(sparsity)}')"
   ]
  },
  {
   "cell_type": "code",
   "execution_count": 28,
   "metadata": {},
   "outputs": [],
   "source": [
    "# extracting text with Transformer\n",
    "from sklearn.feature_extraction.text import TfidfTransformer"
   ]
  },
  {
   "cell_type": "code",
   "execution_count": 29,
   "metadata": {},
   "outputs": [
    {
     "name": "stdout",
     "output_type": "stream",
     "text": [
      "(44898, 39099)\n"
     ]
    }
   ],
   "source": [
    "# checking new shape\n",
    "tfidf_transformer = TfidfTransformer().fit(news_bow)\n",
    "news_tfidf = tfidf_transformer.transform(news_bow)\n",
    "print(news_tfidf.shape)"
   ]
  },
  {
   "cell_type": "markdown",
   "metadata": {},
   "source": [
    "#### Build and train the model"
   ]
  },
  {
   "cell_type": "code",
   "execution_count": 30,
   "metadata": {},
   "outputs": [],
   "source": [
    "# importing algorithm\n",
    "from sklearn.naive_bayes import MultinomialNB"
   ]
  },
  {
   "cell_type": "code",
   "execution_count": 31,
   "metadata": {},
   "outputs": [],
   "source": [
    "fakenews_detect_model = MultinomialNB().fit(news_tfidf, total_news['True/Fake'])"
   ]
  },
  {
   "cell_type": "code",
   "execution_count": 32,
   "metadata": {},
   "outputs": [
    {
     "name": "stdout",
     "output_type": "stream",
     "text": [
      "['Fake' 'Fake' 'Fake' ... 'True' 'True' 'True']\n"
     ]
    }
   ],
   "source": [
    "# Model Evaluation\n",
    "predictions = fakenews_detect_model.predict(news_tfidf)\n",
    "print(predictions)"
   ]
  },
  {
   "cell_type": "code",
   "execution_count": 33,
   "metadata": {},
   "outputs": [
    {
     "name": "stdout",
     "output_type": "stream",
     "text": [
      "              precision    recall  f1-score   support\n",
      "\n",
      "        Fake       1.00      1.00      1.00     21417\n",
      "        True       1.00      1.00      1.00     23481\n",
      "\n",
      "    accuracy                           1.00     44898\n",
      "   macro avg       1.00      1.00      1.00     44898\n",
      "weighted avg       1.00      1.00      1.00     44898\n",
      "\n"
     ]
    }
   ],
   "source": [
    "# importing metrics to check preditions\n",
    "from sklearn.metrics import classification_report\n",
    "print (classification_report(total_news['True/Fake'], predictions))"
   ]
  },
  {
   "cell_type": "markdown",
   "metadata": {},
   "source": [
    "#### Building pipeline"
   ]
  },
  {
   "cell_type": "code",
   "execution_count": 35,
   "metadata": {},
   "outputs": [],
   "source": [
    "# importing train_test_split to split the data and train the model\n",
    "from sklearn.model_selection import train_test_split\n",
    "\n",
    "news_train, news_test, text_train, text_test = train_test_split(total_news['Article'], total_news['True/Fake'], test_size=0.3)"
   ]
  },
  {
   "cell_type": "code",
   "execution_count": 36,
   "metadata": {},
   "outputs": [
    {
     "data": {
      "text/plain": [
       "Pipeline(memory=None,\n",
       "         steps=[('bow',\n",
       "                 CountVectorizer(analyzer=<function process_text at 0x000000E6D4B5C8B0>,\n",
       "                                 binary=False, decode_error='strict',\n",
       "                                 dtype=<class 'numpy.int64'>, encoding='utf-8',\n",
       "                                 input='content', lowercase=True, max_df=1.0,\n",
       "                                 max_features=None, min_df=1,\n",
       "                                 ngram_range=(1, 1), preprocessor=None,\n",
       "                                 stop_words=None, strip_accents=None,\n",
       "                                 token_pattern='(?u)\\\\b\\\\w\\\\w+\\\\b',\n",
       "                                 tokenizer=None, vocabulary=None)),\n",
       "                ('tfidf',\n",
       "                 TfidfTransformer(norm='l2', smooth_idf=True,\n",
       "                                  sublinear_tf=False, use_idf=True)),\n",
       "                ('classifier',\n",
       "                 MultinomialNB(alpha=1.0, class_prior=None, fit_prior=True))],\n",
       "         verbose=False)"
      ]
     },
     "execution_count": 36,
     "metadata": {},
     "output_type": "execute_result"
    }
   ],
   "source": [
    "# building pipeline\n",
    "from sklearn.pipeline import Pipeline\n",
    "\n",
    "pipeline = Pipeline([\n",
    "    ('bow', CountVectorizer(analyzer=process_text)),  \n",
    "    ('tfidf', TfidfTransformer()),  \n",
    "    ('classifier', MultinomialNB()),  \n",
    "])\n",
    "pipeline.fit(news_train,text_train)"
   ]
  },
  {
   "cell_type": "markdown",
   "metadata": {},
   "source": [
    "### Evaluating the model"
   ]
  },
  {
   "cell_type": "code",
   "execution_count": 37,
   "metadata": {},
   "outputs": [],
   "source": [
    "# predicting news on test dataset\n",
    "prediction = pipeline.predict(news_test)"
   ]
  },
  {
   "cell_type": "code",
   "execution_count": 38,
   "metadata": {},
   "outputs": [
    {
     "name": "stdout",
     "output_type": "stream",
     "text": [
      "              precision    recall  f1-score   support\n",
      "\n",
      "        Fake       0.97      0.96      0.96      6621\n",
      "        True       0.96      0.98      0.97      6849\n",
      "\n",
      "    accuracy                           0.97     13470\n",
      "   macro avg       0.97      0.97      0.97     13470\n",
      "weighted avg       0.97      0.97      0.97     13470\n",
      "\n"
     ]
    }
   ],
   "source": [
    "# printing out classification report\n",
    "print(classification_report(prediction,text_test))"
   ]
  },
  {
   "cell_type": "markdown",
   "metadata": {},
   "source": [
    "The mode has a high precision detecting both fake and true news. We have high precision, high recall and high f1-score. "
   ]
  }
 ],
 "metadata": {
  "kernelspec": {
   "display_name": "Python 3",
   "language": "python",
   "name": "python3"
  },
  "language_info": {
   "codemirror_mode": {
    "name": "ipython",
    "version": 3
   },
   "file_extension": ".py",
   "mimetype": "text/x-python",
   "name": "python",
   "nbconvert_exporter": "python",
   "pygments_lexer": "ipython3",
   "version": "3.8.0"
  }
 },
 "nbformat": 4,
 "nbformat_minor": 4
}
