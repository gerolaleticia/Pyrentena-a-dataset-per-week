{
  "nbformat": 4,
  "nbformat_minor": 0,
  "metadata": {
    "colab": {
      "name": "Semana 6 - NLP for fake news detection.ipynb",
      "provenance": []
    },
    "kernelspec": {
      "name": "python3",
      "display_name": "Python 3"
    }
  },
  "cells": [
    {
      "cell_type": "markdown",
      "metadata": {
        "id": "kSamoelnPdFJ",
        "colab_type": "text"
      },
      "source": [
        "# NLP for Fake News detection\n",
        "Applying Neural Language Processing to try and identify fake news from 'true' news. \n",
        "\n",
        "Dataset available at: https://www.kaggle.com/clmentbisaillon/fake-and-real-news-dataset \n"
      ]
    },
    {
      "cell_type": "markdown",
      "metadata": {
        "id": "HDbz2Wz7PipR",
        "colab_type": "text"
      },
      "source": [
        "### Data exploration"
      ]
    },
    {
      "cell_type": "code",
      "metadata": {
        "id": "0QeC3XyLPXhn",
        "colab_type": "code",
        "colab": {}
      },
      "source": [
        "# importing necessary libs\n",
        "import pandas as pd\n",
        "import numpy as np"
      ],
      "execution_count": 0,
      "outputs": []
    },
    {
      "cell_type": "code",
      "metadata": {
        "id": "t3_YEJARSkVd",
        "colab_type": "code",
        "colab": {
          "resources": {
            "http://localhost:8080/nbextensions/google.colab/files.js": {
              "data": "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",
              "ok": true,
              "headers": [
                [
                  "content-type",
                  "application/javascript"
                ]
              ],
              "status": 200,
              "status_text": ""
            }
          },
          "base_uri": "https://localhost:8080/",
          "height": 108
        },
        "outputId": "476a1a09-3f84-45d1-e4af-08db1b1b6e5e"
      },
      "source": [
        "# uploading csv files\n",
        "from google.colab import files\n",
        "uploaded = files.upload()"
      ],
      "execution_count": 5,
      "outputs": [
        {
          "output_type": "display_data",
          "data": {
            "text/html": [
              "\n",
              "     <input type=\"file\" id=\"files-9b5a4225-4e05-4d34-9ff7-60a1aacd1419\" name=\"files[]\" multiple disabled />\n",
              "     <output id=\"result-9b5a4225-4e05-4d34-9ff7-60a1aacd1419\">\n",
              "      Upload widget is only available when the cell has been executed in the\n",
              "      current browser session. Please rerun this cell to enable.\n",
              "      </output>\n",
              "      <script src=\"/nbextensions/google.colab/files.js\"></script> "
            ],
            "text/plain": [
              "<IPython.core.display.HTML object>"
            ]
          },
          "metadata": {
            "tags": []
          }
        },
        {
          "output_type": "stream",
          "text": [
            "Saving Fake.csv to Fake.csv\n",
            "Saving True.csv to True.csv\n"
          ],
          "name": "stdout"
        }
      ]
    },
    {
      "cell_type": "code",
      "metadata": {
        "id": "9nX-T9z1Pmb5",
        "colab_type": "code",
        "colab": {}
      },
      "source": [
        "# Dataset is now stored in a Pandas Dataframe\n",
        "import io\n",
        "fake_news = pd.read_csv(io.BytesIO(uploaded['Fake.csv']))\n",
        "true_news = pd.read_csv(io.BytesIO(uploaded['True.csv']))"
      ],
      "execution_count": 0,
      "outputs": []
    },
    {
      "cell_type": "code",
      "metadata": {
        "id": "wh9AFgK3PmkV",
        "colab_type": "code",
        "colab": {
          "base_uri": "https://localhost:8080/",
          "height": 204
        },
        "outputId": "aaec2bd5-b587-4675-c82f-d34b63fcc363"
      },
      "source": [
        "true_news.head()"
      ],
      "execution_count": 7,
      "outputs": [
        {
          "output_type": "execute_result",
          "data": {
            "text/html": [
              "<div>\n",
              "<style scoped>\n",
              "    .dataframe tbody tr th:only-of-type {\n",
              "        vertical-align: middle;\n",
              "    }\n",
              "\n",
              "    .dataframe tbody tr th {\n",
              "        vertical-align: top;\n",
              "    }\n",
              "\n",
              "    .dataframe thead th {\n",
              "        text-align: right;\n",
              "    }\n",
              "</style>\n",
              "<table border=\"1\" class=\"dataframe\">\n",
              "  <thead>\n",
              "    <tr style=\"text-align: right;\">\n",
              "      <th></th>\n",
              "      <th>title</th>\n",
              "      <th>text</th>\n",
              "      <th>subject</th>\n",
              "      <th>date</th>\n",
              "    </tr>\n",
              "  </thead>\n",
              "  <tbody>\n",
              "    <tr>\n",
              "      <th>0</th>\n",
              "      <td>As U.S. budget fight looms, Republicans flip t...</td>\n",
              "      <td>WASHINGTON (Reuters) - The head of a conservat...</td>\n",
              "      <td>politicsNews</td>\n",
              "      <td>December 31, 2017</td>\n",
              "    </tr>\n",
              "    <tr>\n",
              "      <th>1</th>\n",
              "      <td>U.S. military to accept transgender recruits o...</td>\n",
              "      <td>WASHINGTON (Reuters) - Transgender people will...</td>\n",
              "      <td>politicsNews</td>\n",
              "      <td>December 29, 2017</td>\n",
              "    </tr>\n",
              "    <tr>\n",
              "      <th>2</th>\n",
              "      <td>Senior U.S. Republican senator: 'Let Mr. Muell...</td>\n",
              "      <td>WASHINGTON (Reuters) - The special counsel inv...</td>\n",
              "      <td>politicsNews</td>\n",
              "      <td>December 31, 2017</td>\n",
              "    </tr>\n",
              "    <tr>\n",
              "      <th>3</th>\n",
              "      <td>FBI Russia probe helped by Australian diplomat...</td>\n",
              "      <td>WASHINGTON (Reuters) - Trump campaign adviser ...</td>\n",
              "      <td>politicsNews</td>\n",
              "      <td>December 30, 2017</td>\n",
              "    </tr>\n",
              "    <tr>\n",
              "      <th>4</th>\n",
              "      <td>Trump wants Postal Service to charge 'much mor...</td>\n",
              "      <td>SEATTLE/WASHINGTON (Reuters) - President Donal...</td>\n",
              "      <td>politicsNews</td>\n",
              "      <td>December 29, 2017</td>\n",
              "    </tr>\n",
              "  </tbody>\n",
              "</table>\n",
              "</div>"
            ],
            "text/plain": [
              "                                               title  ...                date\n",
              "0  As U.S. budget fight looms, Republicans flip t...  ...  December 31, 2017 \n",
              "1  U.S. military to accept transgender recruits o...  ...  December 29, 2017 \n",
              "2  Senior U.S. Republican senator: 'Let Mr. Muell...  ...  December 31, 2017 \n",
              "3  FBI Russia probe helped by Australian diplomat...  ...  December 30, 2017 \n",
              "4  Trump wants Postal Service to charge 'much mor...  ...  December 29, 2017 \n",
              "\n",
              "[5 rows x 4 columns]"
            ]
          },
          "metadata": {
            "tags": []
          },
          "execution_count": 7
        }
      ]
    },
    {
      "cell_type": "code",
      "metadata": {
        "id": "DU_Namv0PmnF",
        "colab_type": "code",
        "colab": {
          "base_uri": "https://localhost:8080/",
          "height": 204
        },
        "outputId": "ae6e43d1-5e61-43db-b880-3847b68a8c67"
      },
      "source": [
        "fake_news.head()"
      ],
      "execution_count": 8,
      "outputs": [
        {
          "output_type": "execute_result",
          "data": {
            "text/html": [
              "<div>\n",
              "<style scoped>\n",
              "    .dataframe tbody tr th:only-of-type {\n",
              "        vertical-align: middle;\n",
              "    }\n",
              "\n",
              "    .dataframe tbody tr th {\n",
              "        vertical-align: top;\n",
              "    }\n",
              "\n",
              "    .dataframe thead th {\n",
              "        text-align: right;\n",
              "    }\n",
              "</style>\n",
              "<table border=\"1\" class=\"dataframe\">\n",
              "  <thead>\n",
              "    <tr style=\"text-align: right;\">\n",
              "      <th></th>\n",
              "      <th>title</th>\n",
              "      <th>text</th>\n",
              "      <th>subject</th>\n",
              "      <th>date</th>\n",
              "    </tr>\n",
              "  </thead>\n",
              "  <tbody>\n",
              "    <tr>\n",
              "      <th>0</th>\n",
              "      <td>Donald Trump Sends Out Embarrassing New Year’...</td>\n",
              "      <td>Donald Trump just couldn t wish all Americans ...</td>\n",
              "      <td>News</td>\n",
              "      <td>December 31, 2017</td>\n",
              "    </tr>\n",
              "    <tr>\n",
              "      <th>1</th>\n",
              "      <td>Drunk Bragging Trump Staffer Started Russian ...</td>\n",
              "      <td>House Intelligence Committee Chairman Devin Nu...</td>\n",
              "      <td>News</td>\n",
              "      <td>December 31, 2017</td>\n",
              "    </tr>\n",
              "    <tr>\n",
              "      <th>2</th>\n",
              "      <td>Sheriff David Clarke Becomes An Internet Joke...</td>\n",
              "      <td>On Friday, it was revealed that former Milwauk...</td>\n",
              "      <td>News</td>\n",
              "      <td>December 30, 2017</td>\n",
              "    </tr>\n",
              "    <tr>\n",
              "      <th>3</th>\n",
              "      <td>Trump Is So Obsessed He Even Has Obama’s Name...</td>\n",
              "      <td>On Christmas day, Donald Trump announced that ...</td>\n",
              "      <td>News</td>\n",
              "      <td>December 29, 2017</td>\n",
              "    </tr>\n",
              "    <tr>\n",
              "      <th>4</th>\n",
              "      <td>Pope Francis Just Called Out Donald Trump Dur...</td>\n",
              "      <td>Pope Francis used his annual Christmas Day mes...</td>\n",
              "      <td>News</td>\n",
              "      <td>December 25, 2017</td>\n",
              "    </tr>\n",
              "  </tbody>\n",
              "</table>\n",
              "</div>"
            ],
            "text/plain": [
              "                                               title  ...               date\n",
              "0   Donald Trump Sends Out Embarrassing New Year’...  ...  December 31, 2017\n",
              "1   Drunk Bragging Trump Staffer Started Russian ...  ...  December 31, 2017\n",
              "2   Sheriff David Clarke Becomes An Internet Joke...  ...  December 30, 2017\n",
              "3   Trump Is So Obsessed He Even Has Obama’s Name...  ...  December 29, 2017\n",
              "4   Pope Francis Just Called Out Donald Trump Dur...  ...  December 25, 2017\n",
              "\n",
              "[5 rows x 4 columns]"
            ]
          },
          "metadata": {
            "tags": []
          },
          "execution_count": 8
        }
      ]
    },
    {
      "cell_type": "code",
      "metadata": {
        "id": "QfI5jnP7Pmp1",
        "colab_type": "code",
        "colab": {
          "base_uri": "https://localhost:8080/",
          "height": 34
        },
        "outputId": "bedd592e-84e0-4369-a8dd-ae369aa5bb2e"
      },
      "source": [
        "# number of columns and rows of each dataframe\n",
        "fake_news.shape, true_news.shape"
      ],
      "execution_count": 9,
      "outputs": [
        {
          "output_type": "execute_result",
          "data": {
            "text/plain": [
              "((23481, 4), (21417, 4))"
            ]
          },
          "metadata": {
            "tags": []
          },
          "execution_count": 9
        }
      ]
    },
    {
      "cell_type": "code",
      "metadata": {
        "id": "Eflqc5qMPmt1",
        "colab_type": "code",
        "colab": {
          "base_uri": "https://localhost:8080/",
          "height": 173
        },
        "outputId": "dbc22d56-aa39-4d05-ee15-044df8769162"
      },
      "source": [
        "fake_news.describe().T"
      ],
      "execution_count": 10,
      "outputs": [
        {
          "output_type": "execute_result",
          "data": {
            "text/html": [
              "<div>\n",
              "<style scoped>\n",
              "    .dataframe tbody tr th:only-of-type {\n",
              "        vertical-align: middle;\n",
              "    }\n",
              "\n",
              "    .dataframe tbody tr th {\n",
              "        vertical-align: top;\n",
              "    }\n",
              "\n",
              "    .dataframe thead th {\n",
              "        text-align: right;\n",
              "    }\n",
              "</style>\n",
              "<table border=\"1\" class=\"dataframe\">\n",
              "  <thead>\n",
              "    <tr style=\"text-align: right;\">\n",
              "      <th></th>\n",
              "      <th>count</th>\n",
              "      <th>unique</th>\n",
              "      <th>top</th>\n",
              "      <th>freq</th>\n",
              "    </tr>\n",
              "  </thead>\n",
              "  <tbody>\n",
              "    <tr>\n",
              "      <th>title</th>\n",
              "      <td>23481</td>\n",
              "      <td>17903</td>\n",
              "      <td>MEDIA IGNORES Time That Bill Clinton FIRED His...</td>\n",
              "      <td>6</td>\n",
              "    </tr>\n",
              "    <tr>\n",
              "      <th>text</th>\n",
              "      <td>23481</td>\n",
              "      <td>17455</td>\n",
              "      <td></td>\n",
              "      <td>626</td>\n",
              "    </tr>\n",
              "    <tr>\n",
              "      <th>subject</th>\n",
              "      <td>23481</td>\n",
              "      <td>6</td>\n",
              "      <td>News</td>\n",
              "      <td>9050</td>\n",
              "    </tr>\n",
              "    <tr>\n",
              "      <th>date</th>\n",
              "      <td>23481</td>\n",
              "      <td>1681</td>\n",
              "      <td>May 10, 2017</td>\n",
              "      <td>46</td>\n",
              "    </tr>\n",
              "  </tbody>\n",
              "</table>\n",
              "</div>"
            ],
            "text/plain": [
              "         count unique                                                top  freq\n",
              "title    23481  17903  MEDIA IGNORES Time That Bill Clinton FIRED His...     6\n",
              "text     23481  17455                                                      626\n",
              "subject  23481      6                                               News  9050\n",
              "date     23481   1681                                       May 10, 2017    46"
            ]
          },
          "metadata": {
            "tags": []
          },
          "execution_count": 10
        }
      ]
    },
    {
      "cell_type": "code",
      "metadata": {
        "id": "tIAlw8CiYjHM",
        "colab_type": "code",
        "colab": {
          "base_uri": "https://localhost:8080/",
          "height": 173
        },
        "outputId": "c4747932-3358-4c34-f209-58b6bea14c2d"
      },
      "source": [
        "true_news.describe().T"
      ],
      "execution_count": 11,
      "outputs": [
        {
          "output_type": "execute_result",
          "data": {
            "text/html": [
              "<div>\n",
              "<style scoped>\n",
              "    .dataframe tbody tr th:only-of-type {\n",
              "        vertical-align: middle;\n",
              "    }\n",
              "\n",
              "    .dataframe tbody tr th {\n",
              "        vertical-align: top;\n",
              "    }\n",
              "\n",
              "    .dataframe thead th {\n",
              "        text-align: right;\n",
              "    }\n",
              "</style>\n",
              "<table border=\"1\" class=\"dataframe\">\n",
              "  <thead>\n",
              "    <tr style=\"text-align: right;\">\n",
              "      <th></th>\n",
              "      <th>count</th>\n",
              "      <th>unique</th>\n",
              "      <th>top</th>\n",
              "      <th>freq</th>\n",
              "    </tr>\n",
              "  </thead>\n",
              "  <tbody>\n",
              "    <tr>\n",
              "      <th>title</th>\n",
              "      <td>21417</td>\n",
              "      <td>20826</td>\n",
              "      <td>Factbox: Trump fills top jobs for his administ...</td>\n",
              "      <td>14</td>\n",
              "    </tr>\n",
              "    <tr>\n",
              "      <th>text</th>\n",
              "      <td>21417</td>\n",
              "      <td>21192</td>\n",
              "      <td>(Reuters) - Highlights for U.S. President Dona...</td>\n",
              "      <td>8</td>\n",
              "    </tr>\n",
              "    <tr>\n",
              "      <th>subject</th>\n",
              "      <td>21417</td>\n",
              "      <td>2</td>\n",
              "      <td>politicsNews</td>\n",
              "      <td>11272</td>\n",
              "    </tr>\n",
              "    <tr>\n",
              "      <th>date</th>\n",
              "      <td>21417</td>\n",
              "      <td>716</td>\n",
              "      <td>December 20, 2017</td>\n",
              "      <td>182</td>\n",
              "    </tr>\n",
              "  </tbody>\n",
              "</table>\n",
              "</div>"
            ],
            "text/plain": [
              "         count unique                                                top   freq\n",
              "title    21417  20826  Factbox: Trump fills top jobs for his administ...     14\n",
              "text     21417  21192  (Reuters) - Highlights for U.S. President Dona...      8\n",
              "subject  21417      2                                       politicsNews  11272\n",
              "date     21417    716                                 December 20, 2017     182"
            ]
          },
          "metadata": {
            "tags": []
          },
          "execution_count": 11
        }
      ]
    },
    {
      "cell_type": "code",
      "metadata": {
        "id": "P7t2lreGYjMW",
        "colab_type": "code",
        "colab": {}
      },
      "source": [
        "# adding feature that will be target variable True/Fake\n",
        "fake_news['True/Fake'] = 'True'\n",
        "true_news['True/Fake'] = 'Fake'"
      ],
      "execution_count": 0,
      "outputs": []
    },
    {
      "cell_type": "code",
      "metadata": {
        "id": "kkIbzaPmYjQT",
        "colab_type": "code",
        "colab": {}
      },
      "source": [
        "# combining the dataframes into a single one using concat method\n",
        "total_news = pd.concat([true_news, fake_news])\n",
        "total_news['Article'] = total_news['title'] + total_news['text'] # merging columns title and text"
      ],
      "execution_count": 0,
      "outputs": []
    },
    {
      "cell_type": "code",
      "metadata": {
        "id": "b0hdufiJYjWy",
        "colab_type": "code",
        "colab": {
          "base_uri": "https://localhost:8080/",
          "height": 589
        },
        "outputId": "75ec0c6e-0132-442a-c8de-d0b7c0887416"
      },
      "source": [
        "# shuffling dataset 100% in order to mix True and Fake\n",
        "total_news.sample(frac=1)"
      ],
      "execution_count": 14,
      "outputs": [
        {
          "output_type": "execute_result",
          "data": {
            "text/html": [
              "<div>\n",
              "<style scoped>\n",
              "    .dataframe tbody tr th:only-of-type {\n",
              "        vertical-align: middle;\n",
              "    }\n",
              "\n",
              "    .dataframe tbody tr th {\n",
              "        vertical-align: top;\n",
              "    }\n",
              "\n",
              "    .dataframe thead th {\n",
              "        text-align: right;\n",
              "    }\n",
              "</style>\n",
              "<table border=\"1\" class=\"dataframe\">\n",
              "  <thead>\n",
              "    <tr style=\"text-align: right;\">\n",
              "      <th></th>\n",
              "      <th>title</th>\n",
              "      <th>text</th>\n",
              "      <th>subject</th>\n",
              "      <th>date</th>\n",
              "      <th>True/Fake</th>\n",
              "      <th>Article</th>\n",
              "    </tr>\n",
              "  </thead>\n",
              "  <tbody>\n",
              "    <tr>\n",
              "      <th>695</th>\n",
              "      <td>GOP Congress Just Delivered Trump The Biggest...</td>\n",
              "      <td>If there s one thing Donald Trump fears the mo...</td>\n",
              "      <td>News</td>\n",
              "      <td>August 1, 2017</td>\n",
              "      <td>True</td>\n",
              "      <td>GOP Congress Just Delivered Trump The Biggest...</td>\n",
              "    </tr>\n",
              "    <tr>\n",
              "      <th>13023</th>\n",
              "      <td>JOHN KERRY’S STATE DEPT Reportedly Funneled Ov...</td>\n",
              "      <td>So much for  the most transparent administrati...</td>\n",
              "      <td>politics</td>\n",
              "      <td>Sep 13, 2016</td>\n",
              "      <td>True</td>\n",
              "      <td>JOHN KERRY’S STATE DEPT Reportedly Funneled Ov...</td>\n",
              "    </tr>\n",
              "    <tr>\n",
              "      <th>8883</th>\n",
              "      <td>Trump defends 'star' tweet; Clinton says it's ...</td>\n",
              "      <td>NEW YORK (Reuters) - Republican presidential c...</td>\n",
              "      <td>politicsNews</td>\n",
              "      <td>July 4, 2016</td>\n",
              "      <td>Fake</td>\n",
              "      <td>Trump defends 'star' tweet; Clinton says it's ...</td>\n",
              "    </tr>\n",
              "    <tr>\n",
              "      <th>10187</th>\n",
              "      <td>BREAKING NEWS: GENERAL MATTIS Issues Fiery War...</td>\n",
              "      <td>President Trump put North Korea s brutal dicta...</td>\n",
              "      <td>politics</td>\n",
              "      <td>Aug 9, 2017</td>\n",
              "      <td>True</td>\n",
              "      <td>BREAKING NEWS: GENERAL MATTIS Issues Fiery War...</td>\n",
              "    </tr>\n",
              "    <tr>\n",
              "      <th>21913</th>\n",
              "      <td>LISTEN TO THIS FORMER DOJ WHISTLEBLOWER</td>\n",
              "      <td>THE CONGRESS IS THERE TO DO WHAT S BEST FOR TH...</td>\n",
              "      <td>left-news</td>\n",
              "      <td>Apr 5, 2015</td>\n",
              "      <td>True</td>\n",
              "      <td>LISTEN TO THIS FORMER DOJ WHISTLEBLOWERTHE CON...</td>\n",
              "    </tr>\n",
              "    <tr>\n",
              "      <th>...</th>\n",
              "      <td>...</td>\n",
              "      <td>...</td>\n",
              "      <td>...</td>\n",
              "      <td>...</td>\n",
              "      <td>...</td>\n",
              "      <td>...</td>\n",
              "    </tr>\n",
              "    <tr>\n",
              "      <th>10159</th>\n",
              "      <td>Trump questions NATO, Asia nuclear weapons ahe...</td>\n",
              "      <td>WASHINGTON (Reuters) - U.S. Republican preside...</td>\n",
              "      <td>politicsNews</td>\n",
              "      <td>March 27, 2016</td>\n",
              "      <td>Fake</td>\n",
              "      <td>Trump questions NATO, Asia nuclear weapons ahe...</td>\n",
              "    </tr>\n",
              "    <tr>\n",
              "      <th>19207</th>\n",
              "      <td>WHAT? DEMOCRAT CONGRESSWOMAN Calls Violent Rio...</td>\n",
              "      <td>Here s just one video from last night that wil...</td>\n",
              "      <td>left-news</td>\n",
              "      <td>Feb 2, 2017</td>\n",
              "      <td>True</td>\n",
              "      <td>WHAT? DEMOCRAT CONGRESSWOMAN Calls Violent Rio...</td>\n",
              "    </tr>\n",
              "    <tr>\n",
              "      <th>7242</th>\n",
              "      <td>U.S. panel urges probe on whether China weaken...</td>\n",
              "      <td>WASHINGTON (Reuters) - A U.S. advisory commiss...</td>\n",
              "      <td>politicsNews</td>\n",
              "      <td>November 16, 2016</td>\n",
              "      <td>Fake</td>\n",
              "      <td>U.S. panel urges probe on whether China weaken...</td>\n",
              "    </tr>\n",
              "    <tr>\n",
              "      <th>1810</th>\n",
              "      <td>Trump calls for a tax reform 'speed-up' in lig...</td>\n",
              "      <td>WASHINGTON (Reuters) - U.S. President Donald T...</td>\n",
              "      <td>politicsNews</td>\n",
              "      <td>September 10, 2017</td>\n",
              "      <td>Fake</td>\n",
              "      <td>Trump calls for a tax reform 'speed-up' in lig...</td>\n",
              "    </tr>\n",
              "    <tr>\n",
              "      <th>18583</th>\n",
              "      <td>Over 460 people injured in Catalonia during re...</td>\n",
              "      <td>MADRID (Reuters) - More than 460 people have b...</td>\n",
              "      <td>worldnews</td>\n",
              "      <td>October 1, 2017</td>\n",
              "      <td>Fake</td>\n",
              "      <td>Over 460 people injured in Catalonia during re...</td>\n",
              "    </tr>\n",
              "  </tbody>\n",
              "</table>\n",
              "<p>44898 rows × 6 columns</p>\n",
              "</div>"
            ],
            "text/plain": [
              "                                                   title  ...                                            Article\n",
              "695     GOP Congress Just Delivered Trump The Biggest...  ...   GOP Congress Just Delivered Trump The Biggest...\n",
              "13023  JOHN KERRY’S STATE DEPT Reportedly Funneled Ov...  ...  JOHN KERRY’S STATE DEPT Reportedly Funneled Ov...\n",
              "8883   Trump defends 'star' tweet; Clinton says it's ...  ...  Trump defends 'star' tweet; Clinton says it's ...\n",
              "10187  BREAKING NEWS: GENERAL MATTIS Issues Fiery War...  ...  BREAKING NEWS: GENERAL MATTIS Issues Fiery War...\n",
              "21913            LISTEN TO THIS FORMER DOJ WHISTLEBLOWER  ...  LISTEN TO THIS FORMER DOJ WHISTLEBLOWERTHE CON...\n",
              "...                                                  ...  ...                                                ...\n",
              "10159  Trump questions NATO, Asia nuclear weapons ahe...  ...  Trump questions NATO, Asia nuclear weapons ahe...\n",
              "19207  WHAT? DEMOCRAT CONGRESSWOMAN Calls Violent Rio...  ...  WHAT? DEMOCRAT CONGRESSWOMAN Calls Violent Rio...\n",
              "7242   U.S. panel urges probe on whether China weaken...  ...  U.S. panel urges probe on whether China weaken...\n",
              "1810   Trump calls for a tax reform 'speed-up' in lig...  ...  Trump calls for a tax reform 'speed-up' in lig...\n",
              "18583  Over 460 people injured in Catalonia during re...  ...  Over 460 people injured in Catalonia during re...\n",
              "\n",
              "[44898 rows x 6 columns]"
            ]
          },
          "metadata": {
            "tags": []
          },
          "execution_count": 14
        }
      ]
    },
    {
      "cell_type": "markdown",
      "metadata": {
        "id": "x1UXn6RQYxSX",
        "colab_type": "text"
      },
      "source": [
        "## Basic Data Cleaning"
      ]
    },
    {
      "cell_type": "code",
      "metadata": {
        "id": "0nW3-gWoY-nX",
        "colab_type": "code",
        "colab": {
          "base_uri": "https://localhost:8080/",
          "height": 68
        },
        "outputId": "5e69659a-3e55-4f3c-d5dd-ec81f4a9286c"
      },
      "source": [
        "# downloading stopword from nltk lib\n",
        "import nltk\n",
        "nltk.download('stopwords')"
      ],
      "execution_count": 18,
      "outputs": [
        {
          "output_type": "stream",
          "text": [
            "[nltk_data] Downloading package stopwords to /root/nltk_data...\n",
            "[nltk_data]   Unzipping corpora/stopwords.zip.\n"
          ],
          "name": "stdout"
        },
        {
          "output_type": "execute_result",
          "data": {
            "text/plain": [
              "True"
            ]
          },
          "metadata": {
            "tags": []
          },
          "execution_count": 18
        }
      ]
    },
    {
      "cell_type": "code",
      "metadata": {
        "id": "zKrheBu4YjZ0",
        "colab_type": "code",
        "colab": {}
      },
      "source": [
        "# importing libs\n",
        "from nltk.corpus import stopwords\n",
        "import string"
      ],
      "execution_count": 0,
      "outputs": []
    },
    {
      "cell_type": "code",
      "metadata": {
        "id": "tO82uIJYYjck",
        "colab_type": "code",
        "colab": {}
      },
      "source": [
        "# build function to process text\n",
        "def process_text(s):\n",
        "\n",
        "    # Check each string for punctuation\n",
        "    no_punc = [char for char in s if char not in string.punctuation]\n",
        "\n",
        "    # Join the characters again \n",
        "    no_punc = ''.join(no_punc)\n",
        "    \n",
        "    # Convert string to lowercase and remove stopwords\n",
        "    clean_string = [word for word in no_punc.split() if word.lower() not in stopwords.words('english')]\n",
        "    return clean_string"
      ],
      "execution_count": 0,
      "outputs": []
    },
    {
      "cell_type": "code",
      "metadata": {
        "id": "q6O2ixx8Y43H",
        "colab_type": "code",
        "colab": {}
      },
      "source": [
        "# Tokenize article so words can be represented by numbers\n",
        "# this process might take a while: avg 30 mim\n",
        "total_news['Clean Text'] = total_news['Article'].apply(process_text)"
      ],
      "execution_count": 0,
      "outputs": []
    },
    {
      "cell_type": "code",
      "metadata": {
        "id": "ZRnzATLBY5BS",
        "colab_type": "code",
        "colab": {
          "base_uri": "https://localhost:8080/",
          "height": 306
        },
        "outputId": "cde8321a-9cd5-47be-f71f-acfccd7b3504"
      },
      "source": [
        "total_news.sample(5)"
      ],
      "execution_count": 22,
      "outputs": [
        {
          "output_type": "execute_result",
          "data": {
            "text/html": [
              "<div>\n",
              "<style scoped>\n",
              "    .dataframe tbody tr th:only-of-type {\n",
              "        vertical-align: middle;\n",
              "    }\n",
              "\n",
              "    .dataframe tbody tr th {\n",
              "        vertical-align: top;\n",
              "    }\n",
              "\n",
              "    .dataframe thead th {\n",
              "        text-align: right;\n",
              "    }\n",
              "</style>\n",
              "<table border=\"1\" class=\"dataframe\">\n",
              "  <thead>\n",
              "    <tr style=\"text-align: right;\">\n",
              "      <th></th>\n",
              "      <th>title</th>\n",
              "      <th>text</th>\n",
              "      <th>subject</th>\n",
              "      <th>date</th>\n",
              "      <th>True/Fake</th>\n",
              "      <th>Article</th>\n",
              "      <th>Clean Text</th>\n",
              "    </tr>\n",
              "  </thead>\n",
              "  <tbody>\n",
              "    <tr>\n",
              "      <th>8494</th>\n",
              "      <td>Bernie Sanders Just Opened Up About Something...</td>\n",
              "      <td>In a recent candid interview with the Washingt...</td>\n",
              "      <td>News</td>\n",
              "      <td>January 27, 2016</td>\n",
              "      <td>True</td>\n",
              "      <td>Bernie Sanders Just Opened Up About Something...</td>\n",
              "      <td>[Bernie, Sanders, Opened, Something, Make, Con...</td>\n",
              "    </tr>\n",
              "    <tr>\n",
              "      <th>14934</th>\n",
              "      <td>France pays tribute to Paris dead two years on</td>\n",
              "      <td>PARIS (Reuters) - France, still on alert again...</td>\n",
              "      <td>worldnews</td>\n",
              "      <td>November 13, 2017</td>\n",
              "      <td>Fake</td>\n",
              "      <td>France pays tribute to Paris dead two years on...</td>\n",
              "      <td>[France, pays, tribute, Paris, dead, two, year...</td>\n",
              "    </tr>\n",
              "    <tr>\n",
              "      <th>15531</th>\n",
              "      <td>TRUMP RESPONSE TO LEFTIST THREATS: “Get Off My...</td>\n",
              "      <td>It s actually quite refreshing to see someone ...</td>\n",
              "      <td>politics</td>\n",
              "      <td>Jun 27, 2015</td>\n",
              "      <td>True</td>\n",
              "      <td>TRUMP RESPONSE TO LEFTIST THREATS: “Get Off My...</td>\n",
              "      <td>[TRUMP, RESPONSE, LEFTIST, THREATS, “Get, Lawn...</td>\n",
              "    </tr>\n",
              "    <tr>\n",
              "      <th>6918</th>\n",
              "      <td>China newspapers say call with Taiwan's Tsai s...</td>\n",
              "      <td>SHANGHAI (Reuters) - Chinese state media on Mo...</td>\n",
              "      <td>politicsNews</td>\n",
              "      <td>December 5, 2016</td>\n",
              "      <td>Fake</td>\n",
              "      <td>China newspapers say call with Taiwan's Tsai s...</td>\n",
              "      <td>[China, newspapers, say, call, Taiwans, Tsai, ...</td>\n",
              "    </tr>\n",
              "    <tr>\n",
              "      <th>2349</th>\n",
              "      <td>Dem AGs Respond To Trump Rolling Back Clean W...</td>\n",
              "      <td>Amateur president Donald Trump s hostility tow...</td>\n",
              "      <td>News</td>\n",
              "      <td>March 1, 2017</td>\n",
              "      <td>True</td>\n",
              "      <td>Dem AGs Respond To Trump Rolling Back Clean W...</td>\n",
              "      <td>[Dem, AGs, Respond, Trump, Rolling, Back, Clea...</td>\n",
              "    </tr>\n",
              "  </tbody>\n",
              "</table>\n",
              "</div>"
            ],
            "text/plain": [
              "                                                   title  ...                                         Clean Text\n",
              "8494    Bernie Sanders Just Opened Up About Something...  ...  [Bernie, Sanders, Opened, Something, Make, Con...\n",
              "14934     France pays tribute to Paris dead two years on  ...  [France, pays, tribute, Paris, dead, two, year...\n",
              "15531  TRUMP RESPONSE TO LEFTIST THREATS: “Get Off My...  ...  [TRUMP, RESPONSE, LEFTIST, THREATS, “Get, Lawn...\n",
              "6918   China newspapers say call with Taiwan's Tsai s...  ...  [China, newspapers, say, call, Taiwans, Tsai, ...\n",
              "2349    Dem AGs Respond To Trump Rolling Back Clean W...  ...  [Dem, AGs, Respond, Trump, Rolling, Back, Clea...\n",
              "\n",
              "[5 rows x 7 columns]"
            ]
          },
          "metadata": {
            "tags": []
          },
          "execution_count": 22
        }
      ]
    },
    {
      "cell_type": "markdown",
      "metadata": {
        "id": "pNjlAd2rjBSL",
        "colab_type": "text"
      },
      "source": [
        "## Vectorization\n",
        "Convert the collection of text documents to a matrix of token counts.\n",
        "\n",
        "\n"
      ]
    },
    {
      "cell_type": "code",
      "metadata": {
        "id": "SdboSW9fi_Dk",
        "colab_type": "code",
        "colab": {}
      },
      "source": [
        "# importing libs\n",
        "from sklearn.feature_extraction.text import CountVectorizer"
      ],
      "execution_count": 0,
      "outputs": []
    },
    {
      "cell_type": "code",
      "metadata": {
        "id": "dW6kTSeki_Gp",
        "colab_type": "code",
        "colab": {}
      },
      "source": [
        "# Bag-of-Words (bow) transform the entire DataFrame of text\n",
        "# transforming tokens into useful features\n",
        "bow_transformer = CountVectorizer(analyzer=process_text).fit(total_news['Clean Text'])"
      ],
      "execution_count": 0,
      "outputs": []
    },
    {
      "cell_type": "code",
      "metadata": {
        "id": "2sIEqBcCi_Be",
        "colab_type": "code",
        "colab": {
          "base_uri": "https://localhost:8080/",
          "height": 34
        },
        "outputId": "7bd7a374-c8d0-42ab-da99-983c318787c3"
      },
      "source": [
        "# sum of words after vectorizing\n",
        "print(f'Total vocabulary words: {len(bow_transformer.vocabulary_)}') "
      ],
      "execution_count": 25,
      "outputs": [
        {
          "output_type": "stream",
          "text": [
            "Total vocabulary words: 39099\n"
          ],
          "name": "stdout"
        }
      ]
    },
    {
      "cell_type": "code",
      "metadata": {
        "id": "JizLFdXUi--m",
        "colab_type": "code",
        "colab": {}
      },
      "source": [
        "# assigning the matrix of tokens to news_bow variable\n",
        "news_bow = bow_transformer.transform(total_news['Clean Text'])"
      ],
      "execution_count": 0,
      "outputs": []
    },
    {
      "cell_type": "code",
      "metadata": {
        "id": "pkTrsqaOjUJ4",
        "colab_type": "code",
        "colab": {
          "base_uri": "https://localhost:8080/",
          "height": 51
        },
        "outputId": "a95e8970-7b87-4eb2-cc54-0fd9cf42b1e0"
      },
      "source": [
        "# printing out the shape of our Matrix\n",
        "print(f'Shape of Sparse Matrix: {news_bow.shape}')\n",
        "print(f'Amount of Non-Zero occurences: {news_bow.nnz}')"
      ],
      "execution_count": 27,
      "outputs": [
        {
          "output_type": "stream",
          "text": [
            "Shape of Sparse Matrix: (44898, 39099)\n",
            "Amount of Non-Zero occurences: 44898\n"
          ],
          "name": "stdout"
        }
      ]
    },
    {
      "cell_type": "code",
      "metadata": {
        "id": "Yunz0alEjUVc",
        "colab_type": "code",
        "colab": {
          "base_uri": "https://localhost:8080/",
          "height": 34
        },
        "outputId": "8e5c4d12-fe8e-40d8-e83c-63b07663e71a"
      },
      "source": [
        "# checking out sparsity\n",
        "# sparsity of 0 means its fully dense\n",
        "sparsity = (100.0 * news_bow.nnz / (news_bow.shape[0] * news_bow.shape[1]))\n",
        "print(f'sparsity: {round(sparsity)}')"
      ],
      "execution_count": 28,
      "outputs": [
        {
          "output_type": "stream",
          "text": [
            "sparsity: 0\n"
          ],
          "name": "stdout"
        }
      ]
    },
    {
      "cell_type": "code",
      "metadata": {
        "id": "2lzNFIPvjUaF",
        "colab_type": "code",
        "colab": {}
      },
      "source": [
        "# extracting text with Transformer\n",
        "from sklearn.feature_extraction.text import TfidfTransformer"
      ],
      "execution_count": 0,
      "outputs": []
    },
    {
      "cell_type": "code",
      "metadata": {
        "id": "pwminPf7jUTS",
        "colab_type": "code",
        "colab": {
          "base_uri": "https://localhost:8080/",
          "height": 34
        },
        "outputId": "eeb3c209-029a-4054-ea10-ab9cfeff1910"
      },
      "source": [
        "# checking news_bow shape\n",
        "tfidf_transformer = TfidfTransformer().fit(news_bow)\n",
        "news_tfidf = tfidf_transformer.transform(news_bow)\n",
        "print(news_tfidf.shape)"
      ],
      "execution_count": 31,
      "outputs": [
        {
          "output_type": "stream",
          "text": [
            "(44898, 39099)\n"
          ],
          "name": "stdout"
        }
      ]
    },
    {
      "cell_type": "markdown",
      "metadata": {
        "id": "GlBLVpjpjkMS",
        "colab_type": "text"
      },
      "source": [
        "### Build and train the model"
      ]
    },
    {
      "cell_type": "code",
      "metadata": {
        "id": "A-T0UbRxjURD",
        "colab_type": "code",
        "colab": {}
      },
      "source": [
        "# importing algorithm to build the model\n",
        "from sklearn.naive_bayes import MultinomialNB"
      ],
      "execution_count": 0,
      "outputs": []
    },
    {
      "cell_type": "code",
      "metadata": {
        "id": "eQLN_UbmjUO2",
        "colab_type": "code",
        "colab": {}
      },
      "source": [
        "fakenews_detect_model = MultinomialNB().fit(news_tfidf, total_news['True/Fake'])"
      ],
      "execution_count": 0,
      "outputs": []
    },
    {
      "cell_type": "code",
      "metadata": {
        "id": "Ku2Be_BZjUM5",
        "colab_type": "code",
        "colab": {
          "base_uri": "https://localhost:8080/",
          "height": 34
        },
        "outputId": "8b36cdb4-5345-4d76-d43b-500454956bf1"
      },
      "source": [
        "# Model Evaluation\n",
        "predictions = fakenews_detect_model.predict(news_tfidf)\n",
        "print(predictions)"
      ],
      "execution_count": 34,
      "outputs": [
        {
          "output_type": "stream",
          "text": [
            "['Fake' 'Fake' 'Fake' ... 'True' 'True' 'True']\n"
          ],
          "name": "stdout"
        }
      ]
    },
    {
      "cell_type": "code",
      "metadata": {
        "id": "LX8DilHojsk2",
        "colab_type": "code",
        "colab": {
          "base_uri": "https://localhost:8080/",
          "height": 170
        },
        "outputId": "07de9823-8a67-4509-cc61-4b18716c3c0c"
      },
      "source": [
        "# importing metrics to check predictions\n",
        "from sklearn.metrics import classification_report\n",
        "print (classification_report(total_news['True/Fake'], predictions))"
      ],
      "execution_count": 35,
      "outputs": [
        {
          "output_type": "stream",
          "text": [
            "              precision    recall  f1-score   support\n",
            "\n",
            "        Fake       1.00      1.00      1.00     21417\n",
            "        True       1.00      1.00      1.00     23481\n",
            "\n",
            "    accuracy                           1.00     44898\n",
            "   macro avg       1.00      1.00      1.00     44898\n",
            "weighted avg       1.00      1.00      1.00     44898\n",
            "\n"
          ],
          "name": "stdout"
        }
      ]
    },
    {
      "cell_type": "markdown",
      "metadata": {
        "id": "r13NZlCajyhC",
        "colab_type": "text"
      },
      "source": [
        "### Building pipeline"
      ]
    },
    {
      "cell_type": "code",
      "metadata": {
        "id": "7RGdqCo4jsrk",
        "colab_type": "code",
        "colab": {}
      },
      "source": [
        "# importing train_test_split to split the data and train the model\n",
        "from sklearn.model_selection import train_test_split\n",
        "\n",
        "news_train, news_test, text_train, text_test = train_test_split(total_news['Article'], total_news['True/Fake'], test_size=0.3)"
      ],
      "execution_count": 0,
      "outputs": []
    },
    {
      "cell_type": "code",
      "metadata": {
        "id": "Q5HcN93GjswJ",
        "colab_type": "code",
        "colab": {
          "base_uri": "https://localhost:8080/",
          "height": 306
        },
        "outputId": "617c7347-7175-4036-bbf6-c8189db37ce0"
      },
      "source": [
        "# building pipeline\n",
        "from sklearn.pipeline import Pipeline\n",
        "\n",
        "pipeline = Pipeline([\n",
        "    ('bow', CountVectorizer(analyzer=process_text)),  \n",
        "    ('tfidf', TfidfTransformer()),  \n",
        "    ('classifier', MultinomialNB()),  \n",
        "])\n",
        "pipeline.fit(news_train,text_train)"
      ],
      "execution_count": 37,
      "outputs": [
        {
          "output_type": "execute_result",
          "data": {
            "text/plain": [
              "Pipeline(memory=None,\n",
              "         steps=[('bow',\n",
              "                 CountVectorizer(analyzer=<function process_text at 0x7fd734572c80>,\n",
              "                                 binary=False, decode_error='strict',\n",
              "                                 dtype=<class 'numpy.int64'>, encoding='utf-8',\n",
              "                                 input='content', lowercase=True, max_df=1.0,\n",
              "                                 max_features=None, min_df=1,\n",
              "                                 ngram_range=(1, 1), preprocessor=None,\n",
              "                                 stop_words=None, strip_accents=None,\n",
              "                                 token_pattern='(?u)\\\\b\\\\w\\\\w+\\\\b',\n",
              "                                 tokenizer=None, vocabulary=None)),\n",
              "                ('tfidf',\n",
              "                 TfidfTransformer(norm='l2', smooth_idf=True,\n",
              "                                  sublinear_tf=False, use_idf=True)),\n",
              "                ('classifier',\n",
              "                 MultinomialNB(alpha=1.0, class_prior=None, fit_prior=True))],\n",
              "         verbose=False)"
            ]
          },
          "metadata": {
            "tags": []
          },
          "execution_count": 37
        }
      ]
    },
    {
      "cell_type": "code",
      "metadata": {
        "id": "nnwXAQO-js1s",
        "colab_type": "code",
        "colab": {}
      },
      "source": [
        "# predicting news on test dataset\n",
        "prediction = pipeline.predict(news_test)"
      ],
      "execution_count": 0,
      "outputs": []
    },
    {
      "cell_type": "code",
      "metadata": {
        "id": "nHtu_H16o3Y4",
        "colab_type": "code",
        "colab": {
          "base_uri": "https://localhost:8080/",
          "height": 170
        },
        "outputId": "f5fd5051-464b-4fad-e1c4-1f9cccd0fc8b"
      },
      "source": [
        "# printing out classification report\n",
        "print(classification_report(prediction,text_test))"
      ],
      "execution_count": 39,
      "outputs": [
        {
          "output_type": "stream",
          "text": [
            "              precision    recall  f1-score   support\n",
            "\n",
            "        Fake       0.98      0.95      0.97      6491\n",
            "        True       0.96      0.98      0.97      6979\n",
            "\n",
            "    accuracy                           0.97     13470\n",
            "   macro avg       0.97      0.97      0.97     13470\n",
            "weighted avg       0.97      0.97      0.97     13470\n",
            "\n"
          ],
          "name": "stdout"
        }
      ]
    },
    {
      "cell_type": "markdown",
      "metadata": {
        "id": "5-j6Mvt9rQPb",
        "colab_type": "text"
      },
      "source": [
        "### Model evaluation\n",
        "Multinomial Naive Bayes Algorithm performs well, sucessfully predicting both fake and true news, resulting in a total accuracy of 0.97.\n",
        "Further anaylsis are recommended to verify if it's a case of overfitting. \n",
        "\n",
        "\n"
      ]
    }
  ]
}