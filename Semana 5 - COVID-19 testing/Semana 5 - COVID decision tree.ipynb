{
 "cells": [
  {
   "cell_type": "markdown",
   "metadata": {},
   "source": [
    "# Machine Learning Model for COVID-19 testing\n",
    "Dataset available at: https://raw.githubusercontent.com/diogocortiz/Crash-Course-IA/master/ArvoreDecis%C3%A3o/dataset_einstein.csv\n",
    "\n",
    "This dataset contains data on patients who tested for COVID-18 on Albert Einstein Hospital, in São Paulo, Brazil. Has features such as \n",
    "leukocytes, protein, creatinine and others. \n",
    "\n",
    "Question to be answered: is it to possible to build a prediction modelthat can tell, based on the dataset attributes, if the person will test positive or negative to COVID-19?\n",
    "\n",
    "**This project was designed merely for learning purposes and based on the AI Crash Course by Diogo Cortis, available on YouTube: https://www.youtube.com/watch?v=ecYpXd4WREk. It's use for medical purpose is forbidden and imprecise.**"
   ]
  },
  {
   "cell_type": "markdown",
   "metadata": {},
   "source": [
    "### Exploratory Analysis"
   ]
  },
  {
   "cell_type": "code",
   "execution_count": 1,
   "metadata": {},
   "outputs": [],
   "source": [
    "# importing necessary libraries\n",
    "import numpy as np\n",
    "import pandas as pd\n",
    "import matplotlib.pyplot as plt\n",
    "import seaborn as sns"
   ]
  },
  {
   "cell_type": "code",
   "execution_count": 2,
   "metadata": {},
   "outputs": [
    {
     "data": {
      "text/html": [
       "<div>\n",
       "<style scoped>\n",
       "    .dataframe tbody tr th:only-of-type {\n",
       "        vertical-align: middle;\n",
       "    }\n",
       "\n",
       "    .dataframe tbody tr th {\n",
       "        vertical-align: top;\n",
       "    }\n",
       "\n",
       "    .dataframe thead th {\n",
       "        text-align: right;\n",
       "    }\n",
       "</style>\n",
       "<table border=\"1\" class=\"dataframe\">\n",
       "  <thead>\n",
       "    <tr style=\"text-align: right;\">\n",
       "      <th></th>\n",
       "      <th>Patient ID</th>\n",
       "      <th>Patient age quantile</th>\n",
       "      <th>SARS-Cov-2 exam result</th>\n",
       "      <th>Patient addmited to regular ward (1=yes. 0=no)</th>\n",
       "      <th>Patient addmited to semi-intensive unit (1=yes. 0=no)</th>\n",
       "      <th>Patient addmited to intensive care unit (1=yes. 0=no)</th>\n",
       "      <th>Hemoglobin</th>\n",
       "      <th>Leukocytes</th>\n",
       "      <th>Basophils</th>\n",
       "      <th>Proteina C reativa mg/dL</th>\n",
       "      <th>Creatinine</th>\n",
       "    </tr>\n",
       "  </thead>\n",
       "  <tbody>\n",
       "    <tr>\n",
       "      <th>0</th>\n",
       "      <td>44477f75e8169d2</td>\n",
       "      <td>13</td>\n",
       "      <td>negative</td>\n",
       "      <td>0</td>\n",
       "      <td>0</td>\n",
       "      <td>0</td>\n",
       "      <td>NaN</td>\n",
       "      <td>NaN</td>\n",
       "      <td>NaN</td>\n",
       "      <td>NaN</td>\n",
       "      <td>NaN</td>\n",
       "    </tr>\n",
       "    <tr>\n",
       "      <th>1</th>\n",
       "      <td>126e9dd13932f68</td>\n",
       "      <td>17</td>\n",
       "      <td>negative</td>\n",
       "      <td>0</td>\n",
       "      <td>0</td>\n",
       "      <td>0</td>\n",
       "      <td>-0.02234</td>\n",
       "      <td>-0.09461</td>\n",
       "      <td>-0.223767</td>\n",
       "      <td>-0.147895</td>\n",
       "      <td>2.089928</td>\n",
       "    </tr>\n",
       "    <tr>\n",
       "      <th>2</th>\n",
       "      <td>a46b4402a0e5696</td>\n",
       "      <td>8</td>\n",
       "      <td>negative</td>\n",
       "      <td>0</td>\n",
       "      <td>0</td>\n",
       "      <td>0</td>\n",
       "      <td>NaN</td>\n",
       "      <td>NaN</td>\n",
       "      <td>NaN</td>\n",
       "      <td>NaN</td>\n",
       "      <td>NaN</td>\n",
       "    </tr>\n",
       "    <tr>\n",
       "      <th>3</th>\n",
       "      <td>f7d619a94f97c45</td>\n",
       "      <td>5</td>\n",
       "      <td>negative</td>\n",
       "      <td>0</td>\n",
       "      <td>0</td>\n",
       "      <td>0</td>\n",
       "      <td>NaN</td>\n",
       "      <td>NaN</td>\n",
       "      <td>NaN</td>\n",
       "      <td>NaN</td>\n",
       "      <td>NaN</td>\n",
       "    </tr>\n",
       "    <tr>\n",
       "      <th>4</th>\n",
       "      <td>d9e41465789c2b5</td>\n",
       "      <td>15</td>\n",
       "      <td>negative</td>\n",
       "      <td>0</td>\n",
       "      <td>0</td>\n",
       "      <td>0</td>\n",
       "      <td>NaN</td>\n",
       "      <td>NaN</td>\n",
       "      <td>NaN</td>\n",
       "      <td>NaN</td>\n",
       "      <td>NaN</td>\n",
       "    </tr>\n",
       "  </tbody>\n",
       "</table>\n",
       "</div>"
      ],
      "text/plain": [
       "        Patient ID  Patient age quantile SARS-Cov-2 exam result  \\\n",
       "0  44477f75e8169d2                    13               negative   \n",
       "1  126e9dd13932f68                    17               negative   \n",
       "2  a46b4402a0e5696                     8               negative   \n",
       "3  f7d619a94f97c45                     5               negative   \n",
       "4  d9e41465789c2b5                    15               negative   \n",
       "\n",
       "   Patient addmited to regular ward (1=yes. 0=no)  \\\n",
       "0                                               0   \n",
       "1                                               0   \n",
       "2                                               0   \n",
       "3                                               0   \n",
       "4                                               0   \n",
       "\n",
       "   Patient addmited to semi-intensive unit (1=yes. 0=no)  \\\n",
       "0                                                  0       \n",
       "1                                                  0       \n",
       "2                                                  0       \n",
       "3                                                  0       \n",
       "4                                                  0       \n",
       "\n",
       "   Patient addmited to intensive care unit (1=yes. 0=no)  Hemoglobin  \\\n",
       "0                                                  0             NaN   \n",
       "1                                                  0        -0.02234   \n",
       "2                                                  0             NaN   \n",
       "3                                                  0             NaN   \n",
       "4                                                  0             NaN   \n",
       "\n",
       "   Leukocytes  Basophils  Proteina C reativa mg/dL  Creatinine  \n",
       "0         NaN        NaN                       NaN         NaN  \n",
       "1    -0.09461  -0.223767                 -0.147895    2.089928  \n",
       "2         NaN        NaN                       NaN         NaN  \n",
       "3         NaN        NaN                       NaN         NaN  \n",
       "4         NaN        NaN                       NaN         NaN  "
      ]
     },
     "execution_count": 2,
     "metadata": {},
     "output_type": "execute_result"
    }
   ],
   "source": [
    "# attributing the dataset to a dataframe and specifying 'delimiter' so it can read properly\n",
    "dataset = pd.read_csv('https://raw.githubusercontent.com/diogocortiz/Crash-Course-IA/master/ArvoreDecis%C3%A3o/dataset_einstein.csv', \n",
    "                      delimiter=';')\n",
    "dataset.head()"
   ]
  },
  {
   "cell_type": "code",
   "execution_count": 3,
   "metadata": {},
   "outputs": [
    {
     "data": {
      "text/plain": [
       "(5644, 11)"
      ]
     },
     "execution_count": 3,
     "metadata": {},
     "output_type": "execute_result"
    }
   ],
   "source": [
    "dataset.shape"
   ]
  },
  {
   "cell_type": "code",
   "execution_count": 4,
   "metadata": {},
   "outputs": [
    {
     "name": "stdout",
     "output_type": "stream",
     "text": [
      "negative    5086\n",
      "positive     558\n",
      "Name: SARS-Cov-2 exam result, dtype: int64\n"
     ]
    }
   ],
   "source": [
    "# checking the amount of negative x positive results for covid testing\n",
    "print(dataset['SARS-Cov-2 exam result'].value_counts())"
   ]
  },
  {
   "cell_type": "code",
   "execution_count": 5,
   "metadata": {},
   "outputs": [
    {
     "data": {
      "text/plain": [
       "Creatinine                  5220\n",
       "Proteina C reativa mg/dL    5138\n",
       "Basophils                   5042\n",
       "Leukocytes                  5042\n",
       "Hemoglobin                  5041\n",
       "dtype: int64"
      ]
     },
     "execution_count": 5,
     "metadata": {},
     "output_type": "execute_result"
    }
   ],
   "source": [
    "# checking for missing data\n",
    "dataset.isnull().sum().sort_values(ascending=False).head()"
   ]
  },
  {
   "cell_type": "code",
   "execution_count": 6,
   "metadata": {},
   "outputs": [
    {
     "data": {
      "image/png": "[encoded data removed]",
      "text/plain": [
       "<Figure size 864x864 with 2 Axes>"
      ]
     },
     "metadata": {
      "needs_background": "light"
     },
     "output_type": "display_data"
    }
   ],
   "source": [
    "# building a heatmap for corrrlation\n",
    "# annot = True gives the numbers on the corr matrix\n",
    "# linewidths=0.2 make the lines larger for better visualization\n",
    "# cmap='coolwarm' facilitates visualization through collors\n",
    "# square = True asserts the legend into the heatmap properly\n",
    "plt.figure(figsize=(12,12))\n",
    "sns.heatmap(data=dataset.corr(),annot=True,linewidths=0.2,cmap='coolwarm', square=True);"
   ]
  },
  {
   "cell_type": "markdown",
   "metadata": {},
   "source": [
    "- Acccording to the correlation matrix, the level of Leukocyts is one of the features that are highly correlated to COVID testing. \n",
    "- Along with that, 'patient addmited to regular ward' is the second on the line of correlation. \n",
    "- We shouldn't use this variable in our training model tho: since it's a pandemia, the majority of the patinets addmited will usually be related to testing for the disease."
   ]
  },
  {
   "cell_type": "markdown",
   "metadata": {},
   "source": [
    "### Handling missing data\n",
    "There are a lot of rows that don't have all of the data filled out. Since is a health matter, It doesn't seem smart to assign mean or median. Therefore, I've decided to drop those rows. "
   ]
  },
  {
   "cell_type": "code",
   "execution_count": 7,
   "metadata": {},
   "outputs": [],
   "source": [
    "# dropping missing data\n",
    "dataset = dataset.dropna()"
   ]
  },
  {
   "cell_type": "code",
   "execution_count": 8,
   "metadata": {},
   "outputs": [
    {
     "data": {
      "text/plain": [
       "(357, 11)"
      ]
     },
     "execution_count": 8,
     "metadata": {},
     "output_type": "execute_result"
    }
   ],
   "source": [
    "dataset.shape"
   ]
  },
  {
   "cell_type": "code",
   "execution_count": 9,
   "metadata": {},
   "outputs": [
    {
     "name": "stdout",
     "output_type": "stream",
     "text": [
      "negative    302\n",
      "positive     55\n",
      "Name: SARS-Cov-2 exam result, dtype: int64\n"
     ]
    }
   ],
   "source": [
    "# checking if we have a ballanced amount of negative and positive results\n",
    "print(dataset['SARS-Cov-2 exam result'].value_counts())"
   ]
  },
  {
   "cell_type": "markdown",
   "metadata": {},
   "source": [
    "### Basic Data cleaning\n",
    "- model can only handle features that are numeric\n",
    "- need to convert this dataset into an Array Numpy for the algorithm to work\n",
    "- split the dataset in two: target variable and indepent variables"
   ]
  },
  {
   "cell_type": "code",
   "execution_count": 10,
   "metadata": {},
   "outputs": [],
   "source": [
    "# transforming the target variable in binomial 0 - 1\n",
    "dataset['SARS-Cov-2 exam result'] = [0 if x == 'negative' else 1 for x in dataset['SARS-Cov-2 exam result']]"
   ]
  },
  {
   "cell_type": "code",
   "execution_count": 11,
   "metadata": {},
   "outputs": [
    {
     "data": {
      "text/html": [
       "<div>\n",
       "<style scoped>\n",
       "    .dataframe tbody tr th:only-of-type {\n",
       "        vertical-align: middle;\n",
       "    }\n",
       "\n",
       "    .dataframe tbody tr th {\n",
       "        vertical-align: top;\n",
       "    }\n",
       "\n",
       "    .dataframe thead th {\n",
       "        text-align: right;\n",
       "    }\n",
       "</style>\n",
       "<table border=\"1\" class=\"dataframe\">\n",
       "  <thead>\n",
       "    <tr style=\"text-align: right;\">\n",
       "      <th></th>\n",
       "      <th>Patient ID</th>\n",
       "      <th>Patient age quantile</th>\n",
       "      <th>SARS-Cov-2 exam result</th>\n",
       "      <th>Patient addmited to regular ward (1=yes. 0=no)</th>\n",
       "      <th>Patient addmited to semi-intensive unit (1=yes. 0=no)</th>\n",
       "      <th>Patient addmited to intensive care unit (1=yes. 0=no)</th>\n",
       "      <th>Hemoglobin</th>\n",
       "      <th>Leukocytes</th>\n",
       "      <th>Basophils</th>\n",
       "      <th>Proteina C reativa mg/dL</th>\n",
       "      <th>Creatinine</th>\n",
       "    </tr>\n",
       "  </thead>\n",
       "  <tbody>\n",
       "    <tr>\n",
       "      <th>1</th>\n",
       "      <td>126e9dd13932f68</td>\n",
       "      <td>17</td>\n",
       "      <td>0</td>\n",
       "      <td>0</td>\n",
       "      <td>0</td>\n",
       "      <td>0</td>\n",
       "      <td>-0.022340</td>\n",
       "      <td>-0.094610</td>\n",
       "      <td>-0.223767</td>\n",
       "      <td>-0.147895</td>\n",
       "      <td>2.089928</td>\n",
       "    </tr>\n",
       "    <tr>\n",
       "      <th>8</th>\n",
       "      <td>8bb9d64f0215244</td>\n",
       "      <td>1</td>\n",
       "      <td>0</td>\n",
       "      <td>0</td>\n",
       "      <td>1</td>\n",
       "      <td>0</td>\n",
       "      <td>-0.774212</td>\n",
       "      <td>0.364550</td>\n",
       "      <td>-0.223767</td>\n",
       "      <td>-0.286986</td>\n",
       "      <td>-1.838623</td>\n",
       "    </tr>\n",
       "    <tr>\n",
       "      <th>28</th>\n",
       "      <td>fc41531ca4faf1e</td>\n",
       "      <td>13</td>\n",
       "      <td>0</td>\n",
       "      <td>0</td>\n",
       "      <td>0</td>\n",
       "      <td>0</td>\n",
       "      <td>0.854844</td>\n",
       "      <td>-0.075131</td>\n",
       "      <td>2.525365</td>\n",
       "      <td>-0.434025</td>\n",
       "      <td>-0.701411</td>\n",
       "    </tr>\n",
       "    <tr>\n",
       "      <th>29</th>\n",
       "      <td>891d0f6449ff3d7</td>\n",
       "      <td>14</td>\n",
       "      <td>0</td>\n",
       "      <td>0</td>\n",
       "      <td>0</td>\n",
       "      <td>0</td>\n",
       "      <td>0.854844</td>\n",
       "      <td>0.105751</td>\n",
       "      <td>-0.529226</td>\n",
       "      <td>-0.529401</td>\n",
       "      <td>0.332418</td>\n",
       "    </tr>\n",
       "    <tr>\n",
       "      <th>30</th>\n",
       "      <td>ebdd7c67fcb21b4</td>\n",
       "      <td>9</td>\n",
       "      <td>0</td>\n",
       "      <td>1</td>\n",
       "      <td>0</td>\n",
       "      <td>0</td>\n",
       "      <td>-0.711556</td>\n",
       "      <td>-0.286623</td>\n",
       "      <td>-0.223767</td>\n",
       "      <td>0.545572</td>\n",
       "      <td>1.021638</td>\n",
       "    </tr>\n",
       "  </tbody>\n",
       "</table>\n",
       "</div>"
      ],
      "text/plain": [
       "         Patient ID  Patient age quantile  SARS-Cov-2 exam result  \\\n",
       "1   126e9dd13932f68                    17                       0   \n",
       "8   8bb9d64f0215244                     1                       0   \n",
       "28  fc41531ca4faf1e                    13                       0   \n",
       "29  891d0f6449ff3d7                    14                       0   \n",
       "30  ebdd7c67fcb21b4                     9                       0   \n",
       "\n",
       "    Patient addmited to regular ward (1=yes. 0=no)  \\\n",
       "1                                                0   \n",
       "8                                                0   \n",
       "28                                               0   \n",
       "29                                               0   \n",
       "30                                               1   \n",
       "\n",
       "    Patient addmited to semi-intensive unit (1=yes. 0=no)  \\\n",
       "1                                                   0       \n",
       "8                                                   1       \n",
       "28                                                  0       \n",
       "29                                                  0       \n",
       "30                                                  0       \n",
       "\n",
       "    Patient addmited to intensive care unit (1=yes. 0=no)  Hemoglobin  \\\n",
       "1                                                   0       -0.022340   \n",
       "8                                                   0       -0.774212   \n",
       "28                                                  0        0.854844   \n",
       "29                                                  0        0.854844   \n",
       "30                                                  0       -0.711556   \n",
       "\n",
       "    Leukocytes  Basophils  Proteina C reativa mg/dL  Creatinine  \n",
       "1    -0.094610  -0.223767                 -0.147895    2.089928  \n",
       "8     0.364550  -0.223767                 -0.286986   -1.838623  \n",
       "28   -0.075131   2.525365                 -0.434025   -0.701411  \n",
       "29    0.105751  -0.529226                 -0.529401    0.332418  \n",
       "30   -0.286623  -0.223767                  0.545572    1.021638  "
      ]
     },
     "execution_count": 11,
     "metadata": {},
     "output_type": "execute_result"
    }
   ],
   "source": [
    "dataset.head()"
   ]
  },
  {
   "cell_type": "code",
   "execution_count": 12,
   "metadata": {},
   "outputs": [
    {
     "name": "stdout",
     "output_type": "stream",
     "text": [
      "1       0\n",
      "8       0\n",
      "28      0\n",
      "29      0\n",
      "30      0\n",
      "       ..\n",
      "5602    0\n",
      "5614    0\n",
      "5615    0\n",
      "5618    0\n",
      "5643    1\n",
      "Name: SARS-Cov-2 exam result, Length: 357, dtype: int64\n"
     ]
    }
   ],
   "source": [
    "# creating the target variable dataset (y)\n",
    "y = dataset['SARS-Cov-2 exam result']\n",
    "print(y)"
   ]
  },
  {
   "cell_type": "code",
   "execution_count": 13,
   "metadata": {},
   "outputs": [
    {
     "name": "stdout",
     "output_type": "stream",
     "text": [
      "[[-0.02234027 -0.09461035 -0.22376651 -0.14789495  2.08992839]\n",
      " [-0.774212    0.36455047 -0.22376651 -0.28698576 -1.83862317]\n",
      " [ 0.85484386 -0.07513076  2.52536511 -0.4340246  -0.70141089]\n",
      " ...\n",
      " [ 1.10546756 -0.5509882  -0.22376651  0.5614683  -0.49464503]\n",
      " [-2.77920342 -1.73367476 -1.14014375  0.60915661  0.4702622 ]\n",
      " [ 0.54156393 -1.28842807 -1.14014375 -0.50357002 -0.73587185]]\n"
     ]
    }
   ],
   "source": [
    "# creating the independent variable dataset (X)\n",
    "X = dataset[['Hemoglobin', 'Leukocytes', 'Basophils', 'Proteina C reativa mg/dL', 'Creatinine']].values\n",
    "print(X)"
   ]
  },
  {
   "cell_type": "markdown",
   "metadata": {},
   "source": [
    "### Spliting data to build the model"
   ]
  },
  {
   "cell_type": "code",
   "execution_count": 14,
   "metadata": {},
   "outputs": [],
   "source": [
    "# importing libs\n",
    "from sklearn.model_selection import train_test_split\n",
    "from sklearn import preprocessing\n",
    "from sklearn.tree import DecisionTreeClassifier, export_graphviz"
   ]
  },
  {
   "cell_type": "code",
   "execution_count": 15,
   "metadata": {},
   "outputs": [],
   "source": [
    "# splitting data\n",
    "X_treino, X_teste, y_treino, y_teste = train_test_split(X, y, test_size=0.2, random_state=3)"
   ]
  },
  {
   "cell_type": "code",
   "execution_count": 16,
   "metadata": {},
   "outputs": [],
   "source": [
    "# building algorith using decision tree\n",
    "# criteria set for this tree: entropy\n",
    "decision_tree = DecisionTreeClassifier(criterion='entropy')"
   ]
  },
  {
   "cell_type": "code",
   "execution_count": 17,
   "metadata": {},
   "outputs": [],
   "source": [
    "# training the algorithm\n",
    "model = decision_tree.fit(X_treino, y_treino)"
   ]
  },
  {
   "cell_type": "code",
   "execution_count": 29,
   "metadata": {},
   "outputs": [],
   "source": [
    "# applying the model on TEST\n",
    "prediction = model.predict(X_teste)"
   ]
  },
  {
   "cell_type": "markdown",
   "metadata": {},
   "source": [
    "### Evalutating the model"
   ]
  },
  {
   "cell_type": "code",
   "execution_count": 37,
   "metadata": {},
   "outputs": [],
   "source": [
    "# importing metrics\n",
    "from sklearn.metrics import classification_report, confusion_matrix, accuracy_score"
   ]
  },
  {
   "cell_type": "code",
   "execution_count": 41,
   "metadata": {},
   "outputs": [
    {
     "name": "stdout",
     "output_type": "stream",
     "text": [
      "0.8194444444444444\n"
     ]
    }
   ],
   "source": [
    "# accuracy of the tree\n",
    "tree_accuracy = accuracy_score(y_teste, prediction)\n",
    "print(tree_accuracy)"
   ]
  },
  {
   "cell_type": "code",
   "execution_count": 43,
   "metadata": {},
   "outputs": [
    {
     "name": "stdout",
     "output_type": "stream",
     "text": [
      "              precision    recall  f1-score   support\n",
      "\n",
      "           0       0.86      0.93      0.90        60\n",
      "           1       0.43      0.25      0.32        12\n",
      "\n",
      "    accuracy                           0.82        72\n",
      "   macro avg       0.65      0.59      0.61        72\n",
      "weighted avg       0.79      0.82      0.80        72\n",
      "\n"
     ]
    }
   ],
   "source": [
    "# ploting confusion matrix to see if the lack of positive testing has impacted the model\n",
    "confusion_matrix = (classification_report(y_teste, prediction))\n",
    "print(confusion_matrix)"
   ]
  },
  {
   "cell_type": "markdown",
   "metadata": {},
   "source": [
    "### Conclusion\n",
    "- Analysing the confusion matrix, we can see that the model has a problem when it comes to predicting positive results: he is right in 25% of the times. \n",
    "- This is due the short amount of patients who tested positive when compared to the amount who tested negative (302 neagtives against 55 positives). \n",
    "- Although our accuracy was around 82%, we would need a bigger dataset with more patients who tested positive in order to provide some sort of reliable prediction. "
   ]
  },
  {
   "cell_type": "code",
   "execution_count": null,
   "metadata": {},
   "outputs": [],
   "source": []
  }
 ],
 "metadata": {
  "kernelspec": {
   "display_name": "Python 3",
   "language": "python",
   "name": "python3"
  },
  "language_info": {
   "codemirror_mode": {
    "name": "ipython",
    "version": 3
   },
   "file_extension": ".py",
   "mimetype": "text/x-python",
   "name": "python",
   "nbconvert_exporter": "python",
   "pygments_lexer": "ipython3",
   "version": "3.8.0"
  }
 },
 "nbformat": 4,
 "nbformat_minor": 4
}
